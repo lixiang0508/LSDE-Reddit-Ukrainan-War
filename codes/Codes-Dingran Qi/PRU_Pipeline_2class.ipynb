{
 "cells": [
  {
   "cell_type": "markdown",
   "metadata": {},
   "source": [
    "### The code is partly from https://towardsdatascience.com/text-classification-in-spark-nlp-with-bert-and-universal-sentence-encoders-e644d618ca32"
   ]
  },
  {
   "cell_type": "code",
   "execution_count": 0,
   "metadata": {
    "application/vnd.databricks.v1+cell": {
     "inputWidgets": {},
     "nuid": "4b1b286d-e517-4e03-9211-31cca6a11856",
     "showTitle": false,
     "title": ""
    }
   },
   "outputs": [
    {
     "data": {
      "text/html": [
       "<style scoped>\n",
       "  .ansiout {\n",
       "    display: block;\n",
       "    unicode-bidi: embed;\n",
       "    white-space: pre-wrap;\n",
       "    word-wrap: break-word;\n",
       "    word-break: break-all;\n",
       "    font-family: \"Source Code Pro\", \"Menlo\", monospace;;\n",
       "    font-size: 13px;\n",
       "    color: #555;\n",
       "    margin-left: 4px;\n",
       "    line-height: 19px;\n",
       "  }\n",
       "</style>\n",
       "<div class=\"ansiout\">Spark NLP version 4.2.0\n",
       "Apache Spark version: 3.2.1\n",
       "</div>"
      ]
     },
     "metadata": {
      "application/vnd.databricks.v1+output": {
       "addedWidgets": {},
       "arguments": {},
       "data": "<div class=\"ansiout\">Spark NLP version 4.2.0\nApache Spark version: 3.2.1\n</div>",
       "datasetInfos": [],
       "metadata": {},
       "removedWidgets": [],
       "type": "html"
      }
     },
     "output_type": "display_data"
    }
   ],
   "source": [
    "import sparknlp\n",
    "spark = sparknlp.start() \n",
    "# sparknlp.start(gpu=True) >> 在GPU上训练\n",
    "from sparknlp.base import *\n",
    "from sparknlp.annotator import *\n",
    "from pyspark.ml import Pipeline\n",
    "from pyspark.sql.functions import col\n",
    "import pandas as pd\n",
    "print(\"Spark NLP version\", sparknlp.version())\n",
    "print(\"Apache Spark version:\", spark.version)"
   ]
  },
  {
   "cell_type": "code",
   "execution_count": 0,
   "metadata": {
    "application/vnd.databricks.v1+cell": {
     "inputWidgets": {},
     "nuid": "3302962b-4061-4614-988e-c1c9b61212a4",
     "showTitle": false,
     "title": ""
    }
   },
   "outputs": [
    {
     "data": {
      "text/html": [
       "<style scoped>\n",
       "  .ansiout {\n",
       "    display: block;\n",
       "    unicode-bidi: embed;\n",
       "    white-space: pre-wrap;\n",
       "    word-wrap: break-word;\n",
       "    word-break: break-all;\n",
       "    font-family: \"Source Code Pro\", \"Menlo\", monospace;;\n",
       "    font-size: 13px;\n",
       "    color: #555;\n",
       "    margin-left: 4px;\n",
       "    line-height: 19px;\n",
       "  }\n",
       "</style>\n",
       "<div class=\"ansiout\"></div>"
      ]
     },
     "metadata": {
      "application/vnd.databricks.v1+output": {
       "addedWidgets": {},
       "arguments": {},
       "data": "<div class=\"ansiout\"></div>",
       "datasetInfos": [],
       "metadata": {},
       "removedWidgets": [],
       "type": "html"
      }
     },
     "output_type": "display_data"
    }
   ],
   "source": [
    "data = pd.read_csv('/dbfs/mnt/lsde/group05/labeled_data_comment.csv',encoding = \"ISO-8859-1\")"
   ]
  },
  {
   "cell_type": "code",
   "execution_count": 0,
   "metadata": {
    "application/vnd.databricks.v1+cell": {
     "inputWidgets": {},
     "nuid": "d49c99cd-981e-4b88-811b-9779b3f28f73",
     "showTitle": false,
     "title": ""
    }
   },
   "outputs": [
    {
     "data": {
      "text/html": [
       "<style scoped>\n",
       "  .ansiout {\n",
       "    display: block;\n",
       "    unicode-bidi: embed;\n",
       "    white-space: pre-wrap;\n",
       "    word-wrap: break-word;\n",
       "    word-break: break-all;\n",
       "    font-family: \"Source Code Pro\", \"Menlo\", monospace;;\n",
       "    font-size: 13px;\n",
       "    color: #555;\n",
       "    margin-left: 4px;\n",
       "    line-height: 19px;\n",
       "  }\n",
       "</style>\n",
       "<div class=\"ansiout\"></div>"
      ]
     },
     "metadata": {
      "application/vnd.databricks.v1+output": {
       "addedWidgets": {},
       "arguments": {},
       "data": "<div class=\"ansiout\"></div>",
       "datasetInfos": [],
       "metadata": {},
       "removedWidgets": [],
       "type": "html"
      }
     },
     "output_type": "display_data"
    }
   ],
   "source": [
    "clist = []\n",
    "for i in range(1825):\n",
    "    if data[\"position\"][i] == 0 or data[\"position\"][i]==1:\n",
    "        clist.append(i)"
   ]
  },
  {
   "cell_type": "code",
   "execution_count": 0,
   "metadata": {
    "application/vnd.databricks.v1+cell": {
     "inputWidgets": {},
     "nuid": "c94e0f07-fc27-4084-9083-cb4ba47ac9e9",
     "showTitle": false,
     "title": ""
    }
   },
   "outputs": [
    {
     "data": {
      "text/html": [
       "<style scoped>\n",
       "  .ansiout {\n",
       "    display: block;\n",
       "    unicode-bidi: embed;\n",
       "    white-space: pre-wrap;\n",
       "    word-wrap: break-word;\n",
       "    word-break: break-all;\n",
       "    font-family: \"Source Code Pro\", \"Menlo\", monospace;;\n",
       "    font-size: 13px;\n",
       "    color: #555;\n",
       "    margin-left: 4px;\n",
       "    line-height: 19px;\n",
       "  }\n",
       "</style>\n",
       "<div class=\"ansiout\"></div>"
      ]
     },
     "metadata": {
      "application/vnd.databricks.v1+output": {
       "addedWidgets": {},
       "arguments": {},
       "data": "<div class=\"ansiout\"></div>",
       "datasetInfos": [],
       "metadata": {},
       "removedWidgets": [],
       "type": "html"
      }
     },
     "output_type": "display_data"
    }
   ],
   "source": [
    "data1 = pd.read_csv('/dbfs/mnt/lsde/group05/labeled_data_submission.csv',encoding = \"ISO-8859-1\")"
   ]
  },
  {
   "cell_type": "code",
   "execution_count": 0,
   "metadata": {
    "application/vnd.databricks.v1+cell": {
     "inputWidgets": {},
     "nuid": "470c0f24-263e-49ff-a99a-173ffa4082bc",
     "showTitle": false,
     "title": ""
    }
   },
   "outputs": [
    {
     "data": {
      "text/html": [
       "<style scoped>\n",
       "  .ansiout {\n",
       "    display: block;\n",
       "    unicode-bidi: embed;\n",
       "    white-space: pre-wrap;\n",
       "    word-wrap: break-word;\n",
       "    word-break: break-all;\n",
       "    font-family: \"Source Code Pro\", \"Menlo\", monospace;;\n",
       "    font-size: 13px;\n",
       "    color: #555;\n",
       "    margin-left: 4px;\n",
       "    line-height: 19px;\n",
       "  }\n",
       "</style>\n",
       "<div class=\"ansiout\"></div>"
      ]
     },
     "metadata": {
      "application/vnd.databricks.v1+output": {
       "addedWidgets": {},
       "arguments": {},
       "data": "<div class=\"ansiout\"></div>",
       "datasetInfos": [],
       "metadata": {},
       "removedWidgets": [],
       "type": "html"
      }
     },
     "output_type": "display_data"
    }
   ],
   "source": [
    "slist = []\n",
    "for i in range(1717):\n",
    "    if data1[\"position\"][i] == 0 or data1[\"position\"][i]==1:\n",
    "        slist.append(i)"
   ]
  },
  {
   "cell_type": "code",
   "execution_count": 0,
   "metadata": {
    "application/vnd.databricks.v1+cell": {
     "inputWidgets": {},
     "nuid": "6060b1f5-5ad6-4c36-9a69-5b8587d0db59",
     "showTitle": false,
     "title": ""
    }
   },
   "outputs": [
    {
     "data": {
      "text/html": [
       "<style scoped>\n",
       "  .ansiout {\n",
       "    display: block;\n",
       "    unicode-bidi: embed;\n",
       "    white-space: pre-wrap;\n",
       "    word-wrap: break-word;\n",
       "    word-break: break-all;\n",
       "    font-family: \"Source Code Pro\", \"Menlo\", monospace;;\n",
       "    font-size: 13px;\n",
       "    color: #555;\n",
       "    margin-left: 4px;\n",
       "    line-height: 19px;\n",
       "  }\n",
       "</style>\n",
       "<div class=\"ansiout\"></div>"
      ]
     },
     "metadata": {
      "application/vnd.databricks.v1+output": {
       "addedWidgets": {},
       "arguments": {},
       "data": "<div class=\"ansiout\"></div>",
       "datasetInfos": [],
       "metadata": {},
       "removedWidgets": [],
       "type": "html"
      }
     },
     "output_type": "display_data"
    }
   ],
   "source": [
    "d = {\"label\":[],\"message\":[]}\n",
    "df = pd.DataFrame(data=d)"
   ]
  },
  {
   "cell_type": "code",
   "execution_count": 0,
   "metadata": {
    "application/vnd.databricks.v1+cell": {
     "inputWidgets": {},
     "nuid": "9ea27e7d-c447-4f5c-8153-5aadda16a5b5",
     "showTitle": false,
     "title": ""
    }
   },
   "outputs": [
    {
     "data": {
      "text/html": [
       "<style scoped>\n",
       "  .ansiout {\n",
       "    display: block;\n",
       "    unicode-bidi: embed;\n",
       "    white-space: pre-wrap;\n",
       "    word-wrap: break-word;\n",
       "    word-break: break-all;\n",
       "    font-family: \"Source Code Pro\", \"Menlo\", monospace;;\n",
       "    font-size: 13px;\n",
       "    color: #555;\n",
       "    margin-left: 4px;\n",
       "    line-height: 19px;\n",
       "  }\n",
       "</style>\n",
       "<div class=\"ansiout\"></div>"
      ]
     },
     "metadata": {
      "application/vnd.databricks.v1+output": {
       "addedWidgets": {},
       "arguments": {},
       "data": "<div class=\"ansiout\"></div>",
       "datasetInfos": [],
       "metadata": {},
       "removedWidgets": [],
       "type": "html"
      }
     },
     "output_type": "display_data"
    }
   ],
   "source": [
    "for i in clist:\n",
    "    idx = len(df[\"label\"])\n",
    "    df.loc[idx] = [data[\"position\"][i],data[\"body\"][i]]\n",
    "for i in slist:\n",
    "    idx = len(df[\"label\"])\n",
    "    df.loc[idx] = [data1[\"position\"][i],data1[\"title\"][i]]"
   ]
  },
  {
   "cell_type": "code",
   "execution_count": 0,
   "metadata": {
    "application/vnd.databricks.v1+cell": {
     "inputWidgets": {},
     "nuid": "343ee978-5913-4431-a06e-8278be6bf34e",
     "showTitle": false,
     "title": ""
    }
   },
   "outputs": [
    {
     "data": {
      "text/html": [
       "<style scoped>\n",
       "  .ansiout {\n",
       "    display: block;\n",
       "    unicode-bidi: embed;\n",
       "    white-space: pre-wrap;\n",
       "    word-wrap: break-word;\n",
       "    word-break: break-all;\n",
       "    font-family: \"Source Code Pro\", \"Menlo\", monospace;;\n",
       "    font-size: 13px;\n",
       "    color: #555;\n",
       "    margin-left: 4px;\n",
       "    line-height: 19px;\n",
       "  }\n",
       "</style>\n",
       "<div class=\"ansiout\"></div>"
      ]
     },
     "metadata": {
      "application/vnd.databricks.v1+output": {
       "addedWidgets": {},
       "arguments": {},
       "data": "<div class=\"ansiout\"></div>",
       "datasetInfos": [],
       "metadata": {},
       "removedWidgets": [],
       "type": "html"
      }
     },
     "output_type": "display_data"
    }
   ],
   "source": [
    "Dataset =df.sample(frac=1)\n",
    "trainDataset = Dataset[:800]\n",
    "testDataset = Dataset[800:]"
   ]
  },
  {
   "cell_type": "code",
   "execution_count": 0,
   "metadata": {
    "application/vnd.databricks.v1+cell": {
     "inputWidgets": {},
     "nuid": "f9b7d5d5-c0c1-41ab-9089-0610ae0c16b3",
     "showTitle": false,
     "title": ""
    }
   },
   "outputs": [
    {
     "data": {
      "text/html": [
       "<style scoped>\n",
       "  .ansiout {\n",
       "    display: block;\n",
       "    unicode-bidi: embed;\n",
       "    white-space: pre-wrap;\n",
       "    word-wrap: break-word;\n",
       "    word-break: break-all;\n",
       "    font-family: \"Source Code Pro\", \"Menlo\", monospace;;\n",
       "    font-size: 13px;\n",
       "    color: #555;\n",
       "    margin-left: 4px;\n",
       "    line-height: 19px;\n",
       "  }\n",
       "</style>\n",
       "<div class=\"ansiout\"></div>"
      ]
     },
     "metadata": {
      "application/vnd.databricks.v1+output": {
       "addedWidgets": {},
       "arguments": {},
       "data": "<div class=\"ansiout\"></div>",
       "datasetInfos": [],
       "metadata": {},
       "removedWidgets": [],
       "type": "html"
      }
     },
     "output_type": "display_data"
    }
   ],
   "source": [
    "sample = []\n",
    "for i in trainDataset.index:\n",
    "    if trainDataset[\"label\"][i] == 0:\n",
    "        sample.append(i)\n",
    "    elif trainDataset[\"label\"][i] == 1:\n",
    "        for _ in range(4):\n",
    "            sample.append(i)"
   ]
  },
  {
   "cell_type": "code",
   "execution_count": 0,
   "metadata": {
    "application/vnd.databricks.v1+cell": {
     "inputWidgets": {},
     "nuid": "799e439f-a9f1-41a1-bfd9-75833ef5cd1c",
     "showTitle": false,
     "title": ""
    }
   },
   "outputs": [
    {
     "data": {
      "text/html": [
       "<style scoped>\n",
       "  .ansiout {\n",
       "    display: block;\n",
       "    unicode-bidi: embed;\n",
       "    white-space: pre-wrap;\n",
       "    word-wrap: break-word;\n",
       "    word-break: break-all;\n",
       "    font-family: \"Source Code Pro\", \"Menlo\", monospace;;\n",
       "    font-size: 13px;\n",
       "    color: #555;\n",
       "    margin-left: 4px;\n",
       "    line-height: 19px;\n",
       "  }\n",
       "</style>\n",
       "<div class=\"ansiout\"></div>"
      ]
     },
     "metadata": {
      "application/vnd.databricks.v1+output": {
       "addedWidgets": {},
       "arguments": {},
       "data": "<div class=\"ansiout\"></div>",
       "datasetInfos": [],
       "metadata": {},
       "removedWidgets": [],
       "type": "html"
      }
     },
     "output_type": "display_data"
    }
   ],
   "source": [
    "sample1 = []\n",
    "for i in testDataset.index:\n",
    "    if testDataset[\"label\"][i] == 0:\n",
    "        sample1.append(i)\n",
    "    elif testDataset[\"label\"][i] == 1:\n",
    "        for _ in range(4):\n",
    "            sample1.append(i)"
   ]
  },
  {
   "cell_type": "code",
   "execution_count": 0,
   "metadata": {
    "application/vnd.databricks.v1+cell": {
     "inputWidgets": {},
     "nuid": "000aff21-1bd4-41c9-9c9d-9b0a7a584bbc",
     "showTitle": false,
     "title": ""
    }
   },
   "outputs": [
    {
     "data": {
      "text/html": [
       "<style scoped>\n",
       "  .ansiout {\n",
       "    display: block;\n",
       "    unicode-bidi: embed;\n",
       "    white-space: pre-wrap;\n",
       "    word-wrap: break-word;\n",
       "    word-break: break-all;\n",
       "    font-family: \"Source Code Pro\", \"Menlo\", monospace;;\n",
       "    font-size: 13px;\n",
       "    color: #555;\n",
       "    margin-left: 4px;\n",
       "    line-height: 19px;\n",
       "  }\n",
       "</style>\n",
       "<div class=\"ansiout\"></div>"
      ]
     },
     "metadata": {
      "application/vnd.databricks.v1+output": {
       "addedWidgets": {},
       "arguments": {},
       "data": "<div class=\"ansiout\"></div>",
       "datasetInfos": [],
       "metadata": {},
       "removedWidgets": [],
       "type": "html"
      }
     },
     "output_type": "display_data"
    }
   ],
   "source": [
    "import random \n",
    "random.shuffle(sample)\n",
    "random.shuffle(sample1)"
   ]
  },
  {
   "cell_type": "code",
   "execution_count": 0,
   "metadata": {
    "application/vnd.databricks.v1+cell": {
     "inputWidgets": {},
     "nuid": "5f0d1932-de5e-4457-bea0-98842d8d095c",
     "showTitle": false,
     "title": ""
    }
   },
   "outputs": [
    {
     "data": {
      "text/html": [
       "<style scoped>\n",
       "  .ansiout {\n",
       "    display: block;\n",
       "    unicode-bidi: embed;\n",
       "    white-space: pre-wrap;\n",
       "    word-wrap: break-word;\n",
       "    word-break: break-all;\n",
       "    font-family: \"Source Code Pro\", \"Menlo\", monospace;;\n",
       "    font-size: 13px;\n",
       "    color: #555;\n",
       "    margin-left: 4px;\n",
       "    line-height: 19px;\n",
       "  }\n",
       "</style>\n",
       "<div class=\"ansiout\"></div>"
      ]
     },
     "metadata": {
      "application/vnd.databricks.v1+output": {
       "addedWidgets": {},
       "arguments": {},
       "data": "<div class=\"ansiout\"></div>",
       "datasetInfos": [],
       "metadata": {},
       "removedWidgets": [],
       "type": "html"
      }
     },
     "output_type": "display_data"
    }
   ],
   "source": [
    "#balance data\n",
    "train =  pd.DataFrame(data=d)\n",
    "test =  pd.DataFrame(data=d)\n",
    "for i in sample:\n",
    "    idx = len(train[\"label\"])\n",
    "    train.loc[idx] = [str(trainDataset[\"label\"][i]),trainDataset[\"message\"][i]]\n",
    "for i in sample1:\n",
    "    idx = len(test[\"label\"])\n",
    "    test.loc[idx] = [str(testDataset[\"label\"][i]),testDataset[\"message\"][i]]"
   ]
  },
  {
   "cell_type": "code",
   "execution_count": 0,
   "metadata": {
    "application/vnd.databricks.v1+cell": {
     "inputWidgets": {},
     "nuid": "1ebf9ee5-f792-4b83-9696-cd0f3f875250",
     "showTitle": false,
     "title": ""
    }
   },
   "outputs": [
    {
     "data": {
      "text/html": [
       "<style scoped>\n",
       "  .ansiout {\n",
       "    display: block;\n",
       "    unicode-bidi: embed;\n",
       "    white-space: pre-wrap;\n",
       "    word-wrap: break-word;\n",
       "    word-break: break-all;\n",
       "    font-family: \"Source Code Pro\", \"Menlo\", monospace;;\n",
       "    font-size: 13px;\n",
       "    color: #555;\n",
       "    margin-left: 4px;\n",
       "    line-height: 19px;\n",
       "  }\n",
       "</style>\n",
       "<div class=\"ansiout\"></div>"
      ]
     },
     "metadata": {
      "application/vnd.databricks.v1+output": {
       "addedWidgets": {},
       "arguments": {},
       "data": "<div class=\"ansiout\"></div>",
       "datasetInfos": [],
       "metadata": {},
       "removedWidgets": [],
       "type": "html"
      }
     },
     "output_type": "display_data"
    }
   ],
   "source": [
    "values = train.values.tolist()\n",
    "columns = train.columns.tolist()\n",
    "spark_train = spark.createDataFrame(values, columns)\n",
    "\n",
    "values = test.values.tolist()\n",
    "columns = test.columns.tolist()\n",
    "spark_test = spark.createDataFrame(values, columns)"
   ]
  },
  {
   "cell_type": "code",
   "execution_count": 0,
   "metadata": {
    "application/vnd.databricks.v1+cell": {
     "inputWidgets": {},
     "nuid": "6160d7f0-ffb7-49f7-85e0-cbc788abeff1",
     "showTitle": false,
     "title": ""
    }
   },
   "outputs": [
    {
     "data": {
      "text/html": [
       "<style scoped>\n",
       "  .ansiout {\n",
       "    display: block;\n",
       "    unicode-bidi: embed;\n",
       "    white-space: pre-wrap;\n",
       "    word-wrap: break-word;\n",
       "    word-break: break-all;\n",
       "    font-family: \"Source Code Pro\", \"Menlo\", monospace;;\n",
       "    font-size: 13px;\n",
       "    color: #555;\n",
       "    margin-left: 4px;\n",
       "    line-height: 19px;\n",
       "  }\n",
       "</style>\n",
       "<div class=\"ansiout\">+-----+-----+\n",
       "label|count|\n",
       "+-----+-----+\n",
       "  1.0|  668|\n",
       "  0.0|  633|\n",
       "+-----+-----+\n",
       "\n",
       "+-----+-----+\n",
       "label|count|\n",
       "+-----+-----+\n",
       "  0.0|  190|\n",
       "  1.0|  172|\n",
       "+-----+-----+\n",
       "\n",
       "</div>"
      ]
     },
     "metadata": {
      "application/vnd.databricks.v1+output": {
       "addedWidgets": {},
       "arguments": {},
       "data": "<div class=\"ansiout\">+-----+-----+\n|label|count|\n+-----+-----+\n|  1.0|  668|\n|  0.0|  633|\n+-----+-----+\n\n+-----+-----+\n|label|count|\n+-----+-----+\n|  0.0|  190|\n|  1.0|  172|\n+-----+-----+\n\n</div>",
       "datasetInfos": [],
       "metadata": {},
       "removedWidgets": [],
       "type": "html"
      }
     },
     "output_type": "display_data"
    }
   ],
   "source": [
    "from pyspark.sql.functions import col\n",
    "spark_train.groupBy(\"label\") \\\n",
    "    .count() \\\n",
    "    .orderBy(col(\"count\").desc()) \\\n",
    "    .show()\n",
    "\n",
    "spark_test.groupBy(\"label\") \\\n",
    "    .count() \\\n",
    "    .orderBy(col(\"count\").desc()) \\\n",
    "    .show()"
   ]
  },
  {
   "cell_type": "code",
   "execution_count": 0,
   "metadata": {
    "application/vnd.databricks.v1+cell": {
     "inputWidgets": {},
     "nuid": "d31ffc54-51f5-4dac-8c12-9681dd5b7705",
     "showTitle": false,
     "title": ""
    }
   },
   "outputs": [
    {
     "data": {
      "text/html": [
       "<style scoped>\n",
       "  .ansiout {\n",
       "    display: block;\n",
       "    unicode-bidi: embed;\n",
       "    white-space: pre-wrap;\n",
       "    word-wrap: break-word;\n",
       "    word-break: break-all;\n",
       "    font-family: \"Source Code Pro\", \"Menlo\", monospace;;\n",
       "    font-size: 13px;\n",
       "    color: #555;\n",
       "    margin-left: 4px;\n",
       "    line-height: 19px;\n",
       "  }\n",
       "</style>\n",
       "<div class=\"ansiout\">lemma_antbnc download started this may take some time.\n",
       "Approximate size to download 907.6 KB\n",
       "\r",
       "[ | ]\r",
       "[ / ]\r",
       "[OK!]\n",
       "glove_100d download started this may take some time.\n",
       "Approximate size to download 145.3 MB\n",
       "\r",
       "[ | ]\r",
       "[ / ]\r",
       "[ — ]\r",
       "[ \\ ]\r",
       "[ | ]\r",
       "[ / ]\r",
       "[ — ]\r",
       "[ \\ ]\r",
       "[ | ]\r",
       "[ / ]\r",
       "[ — ]\r",
       "[ \\ ]\r",
       "[ | ]\r",
       "[ / ]\r",
       "[ — ]\r",
       "[ \\ ]\r",
       "[ | ]\r",
       "[ / ]\r",
       "[ — ]\r",
       "[ \\ ]\r",
       "[ | ]\r",
       "[ / ]\r",
       "[ — ]\r",
       "[ \\ ]\r",
       "[ | ]\r",
       "[ / ]\r",
       "[ — ]\r",
       "[ \\ ]\r",
       "[ | ]\r",
       "[ / ]\r",
       "[ — ]\r",
       "[OK!]\n",
       "</div>"
      ]
     },
     "metadata": {
      "application/vnd.databricks.v1+output": {
       "addedWidgets": {},
       "arguments": {},
       "data": "<div class=\"ansiout\">lemma_antbnc download started this may take some time.\nApproximate size to download 907.6 KB\n\r[ | ]\r[ / ]\r[OK!]\nglove_100d download started this may take some time.\nApproximate size to download 145.3 MB\n\r[ | ]\r[ / ]\r[ — ]\r[ \\ ]\r[ | ]\r[ / ]\r[ — ]\r[ \\ ]\r[ | ]\r[ / ]\r[ — ]\r[ \\ ]\r[ | ]\r[ / ]\r[ — ]\r[ \\ ]\r[ | ]\r[ / ]\r[ — ]\r[ \\ ]\r[ | ]\r[ / ]\r[ — ]\r[ \\ ]\r[ | ]\r[ / ]\r[ — ]\r[ \\ ]\r[ | ]\r[ / ]\r[ — ]\r[OK!]\n</div>",
       "datasetInfos": [],
       "metadata": {},
       "removedWidgets": [],
       "type": "html"
      }
     },
     "output_type": "display_data"
    }
   ],
   "source": [
    "document_assembler = DocumentAssembler() \\\n",
    "    .setInputCol(\"message\")\\\n",
    "    .setOutputCol(\"document\")\n",
    "\n",
    "sentenceDetector = SentenceDetector()\\\n",
    "      .setInputCols(['document'])\\\n",
    "      .setOutputCol('sentences')\n",
    "\n",
    "tokenizer = Tokenizer()\\\n",
    "    .setInputCols([\"sentences\"])\\\n",
    "    .setOutputCol(\"token\")\n",
    "\n",
    "normalizer = Normalizer()\\\n",
    "    .setInputCols(\"token\")\\\n",
    "    .setOutputCol(\"normalized\")\n",
    "\n",
    "\n",
    "stopwords_cleaner = StopWordsCleaner()\\\n",
    "    .setInputCols(\"normalized\")\\\n",
    "    .setOutputCol(\"cleanTokens\")\\\n",
    "    .setCaseSensitive(False)\\\n",
    "    .setLocale(\"en_US\")\n",
    "\n",
    "lemma = LemmatizerModel.pretrained(\"lemma_antbnc\")\\\n",
    "    .setInputCols([\"cleanTokens\"])\\\n",
    "    .setOutputCol(\"lemma\")\n",
    "\n",
    "word_embeddings = WordEmbeddingsModel().pretrained()\\\n",
    "    .setInputCols([\"document\",\"lemma\"])\\\n",
    "    .setOutputCol(\"embeddings\")\\\n",
    "    .setCaseSensitive(False)\n",
    "\n",
    "embeddingsSentence = SentenceEmbeddings()\\\n",
    "    .setInputCols([\"document\",\"embeddings\"])\\\n",
    "    .setOutputCol(\"sentence_embeddings\")\\\n",
    "    .setPoolingStrategy(\"AVERAGE\")\n",
    "\n",
    "classifierdl = ClassifierDLApproach()\\\n",
    "    .setInputCols([\"sentence_embeddings\"])\\\n",
    "    .setOutputCol(\"class\")\\\n",
    "    .setLabelColumn(\"label\")\\\n",
    "    .setMaxEpochs(10)\\\n",
    "    .setEnableOutputLogs(True)"
   ]
  },
  {
   "cell_type": "code",
   "execution_count": 0,
   "metadata": {
    "application/vnd.databricks.v1+cell": {
     "inputWidgets": {},
     "nuid": "c9d7bd1c-7627-4bb5-b558-2530d5aa4c27",
     "showTitle": false,
     "title": ""
    }
   },
   "outputs": [
    {
     "data": {
      "text/html": [
       "<style scoped>\n",
       "  .ansiout {\n",
       "    display: block;\n",
       "    unicode-bidi: embed;\n",
       "    white-space: pre-wrap;\n",
       "    word-wrap: break-word;\n",
       "    word-break: break-all;\n",
       "    font-family: \"Source Code Pro\", \"Menlo\", monospace;;\n",
       "    font-size: 13px;\n",
       "    color: #555;\n",
       "    margin-left: 4px;\n",
       "    line-height: 19px;\n",
       "  }\n",
       "</style>\n",
       "<div class=\"ansiout\"></div>"
      ]
     },
     "metadata": {
      "application/vnd.databricks.v1+output": {
       "addedWidgets": {},
       "arguments": {},
       "data": "<div class=\"ansiout\"></div>",
       "datasetInfos": [],
       "metadata": {},
       "removedWidgets": [],
       "type": "html"
      }
     },
     "output_type": "display_data"
    }
   ],
   "source": [
    "PUR_pipeline = Pipeline(\n",
    "    stages = [\n",
    "        document_assembler,\n",
    "        sentenceDetector,\n",
    "        tokenizer,\n",
    "        normalizer,\n",
    "        stopwords_cleaner,\n",
    "        lemma,\n",
    "        word_embeddings,\n",
    "        embeddingsSentence,\n",
    "        classifierdl\n",
    "    ]\n",
    ")"
   ]
  },
  {
   "cell_type": "code",
   "execution_count": 0,
   "metadata": {
    "application/vnd.databricks.v1+cell": {
     "inputWidgets": {},
     "nuid": "816cdf63-7543-45bf-86a1-6a74fd9a4c59",
     "showTitle": false,
     "title": ""
    }
   },
   "outputs": [
    {
     "data": {
      "text/html": [
       "<style scoped>\n",
       "  .ansiout {\n",
       "    display: block;\n",
       "    unicode-bidi: embed;\n",
       "    white-space: pre-wrap;\n",
       "    word-wrap: break-word;\n",
       "    word-break: break-all;\n",
       "    font-family: \"Source Code Pro\", \"Menlo\", monospace;;\n",
       "    font-size: 13px;\n",
       "    color: #555;\n",
       "    margin-left: 4px;\n",
       "    line-height: 19px;\n",
       "  }\n",
       "</style>\n",
       "<div class=\"ansiout\"></div>"
      ]
     },
     "metadata": {
      "application/vnd.databricks.v1+output": {
       "addedWidgets": {},
       "arguments": {},
       "data": "<div class=\"ansiout\"></div>",
       "datasetInfos": [],
       "metadata": {},
       "removedWidgets": [],
       "type": "html"
      }
     },
     "output_type": "display_data"
    }
   ],
   "source": [
    "PUR_pipelineModel = PUR_pipeline.fit(spark_train)"
   ]
  },
  {
   "cell_type": "code",
   "execution_count": 0,
   "metadata": {
    "application/vnd.databricks.v1+cell": {
     "inputWidgets": {},
     "nuid": "ea20d1a6-cfb6-4286-9d2c-ce691861bb0b",
     "showTitle": false,
     "title": ""
    }
   },
   "outputs": [
    {
     "data": {
      "text/html": [
       "<style scoped>\n",
       "  .ansiout {\n",
       "    display: block;\n",
       "    unicode-bidi: embed;\n",
       "    white-space: pre-wrap;\n",
       "    word-wrap: break-word;\n",
       "    word-break: break-all;\n",
       "    font-family: \"Source Code Pro\", \"Menlo\", monospace;;\n",
       "    font-size: 13px;\n",
       "    color: #555;\n",
       "    margin-left: 4px;\n",
       "    line-height: 19px;\n",
       "  }\n",
       "</style>\n",
       "<div class=\"ansiout\">              precision    recall  f1-score   support\n",
       "\n",
       "         0.0       0.76      0.86      0.80       190\n",
       "         1.0       0.82      0.70      0.75       172\n",
       "\n",
       "    accuracy                           0.78       362\n",
       "   macro avg       0.79      0.78      0.78       362\n",
       "weighted avg       0.79      0.78      0.78       362\n",
       "\n",
       "0.7817679558011049\n",
       "</div>"
      ]
     },
     "metadata": {
      "application/vnd.databricks.v1+output": {
       "addedWidgets": {},
       "arguments": {},
       "data": "<div class=\"ansiout\">              precision    recall  f1-score   support\n\n         0.0       0.76      0.86      0.80       190\n         1.0       0.82      0.70      0.75       172\n\n    accuracy                           0.78       362\n   macro avg       0.79      0.78      0.78       362\nweighted avg       0.79      0.78      0.78       362\n\n0.7817679558011049\n</div>",
       "datasetInfos": [],
       "metadata": {},
       "removedWidgets": [],
       "type": "html"
      }
     },
     "output_type": "display_data"
    }
   ],
   "source": [
    "from sklearn.metrics import classification_report, accuracy_score\n",
    "df = PUR_pipelineModel.transform(spark_test).select('label','message','class.result').toPandas()\n",
    "df['result'] = df['result'].apply(lambda x:x[0])\n",
    "print(classification_report(df.label,df.result))\n",
    "print(accuracy_score(df.label,df.result))"
   ]
  },
  {
   "cell_type": "markdown",
   "metadata": {
    "application/vnd.databricks.v1+cell": {
     "inputWidgets": {},
     "nuid": "edb3ba3c-e1f9-4221-950a-f1c5cc294c59",
     "showTitle": false,
     "title": ""
    }
   },
   "source": [
    "Train all data for model"
   ]
  },
  {
   "cell_type": "code",
   "execution_count": 0,
   "metadata": {
    "application/vnd.databricks.v1+cell": {
     "inputWidgets": {},
     "nuid": "742d691e-dd8a-4ac8-93b6-016e8630ed3a",
     "showTitle": false,
     "title": ""
    }
   },
   "outputs": [
    {
     "data": {
      "text/html": [
       "<style scoped>\n",
       "  .ansiout {\n",
       "    display: block;\n",
       "    unicode-bidi: embed;\n",
       "    white-space: pre-wrap;\n",
       "    word-wrap: break-word;\n",
       "    word-break: break-all;\n",
       "    font-family: \"Source Code Pro\", \"Menlo\", monospace;;\n",
       "    font-size: 13px;\n",
       "    color: #555;\n",
       "    margin-left: 4px;\n",
       "    line-height: 19px;\n",
       "  }\n",
       "</style>\n",
       "<div class=\"ansiout\"></div>"
      ]
     },
     "metadata": {
      "application/vnd.databricks.v1+output": {
       "addedWidgets": {},
       "arguments": {},
       "data": "<div class=\"ansiout\"></div>",
       "datasetInfos": [],
       "metadata": {},
       "removedWidgets": [],
       "type": "html"
      }
     },
     "output_type": "display_data"
    }
   ],
   "source": [
    "train = pd.concat([train,test])"
   ]
  },
  {
   "cell_type": "code",
   "execution_count": 0,
   "metadata": {
    "application/vnd.databricks.v1+cell": {
     "inputWidgets": {},
     "nuid": "0319a236-b922-475b-b868-d3adee0af3cc",
     "showTitle": false,
     "title": ""
    }
   },
   "outputs": [
    {
     "data": {
      "text/html": [
       "<style scoped>\n",
       "  .ansiout {\n",
       "    display: block;\n",
       "    unicode-bidi: embed;\n",
       "    white-space: pre-wrap;\n",
       "    word-wrap: break-word;\n",
       "    word-break: break-all;\n",
       "    font-family: \"Source Code Pro\", \"Menlo\", monospace;;\n",
       "    font-size: 13px;\n",
       "    color: #555;\n",
       "    margin-left: 4px;\n",
       "    line-height: 19px;\n",
       "  }\n",
       "</style>\n",
       "<div class=\"ansiout\"></div>"
      ]
     },
     "metadata": {
      "application/vnd.databricks.v1+output": {
       "addedWidgets": {},
       "arguments": {},
       "data": "<div class=\"ansiout\"></div>",
       "datasetInfos": [],
       "metadata": {},
       "removedWidgets": [],
       "type": "html"
      }
     },
     "output_type": "display_data"
    }
   ],
   "source": [
    "values = train.values.tolist()\n",
    "columns = train.columns.tolist()\n",
    "spark_train = spark.createDataFrame(values, columns)"
   ]
  },
  {
   "cell_type": "code",
   "execution_count": 0,
   "metadata": {
    "application/vnd.databricks.v1+cell": {
     "inputWidgets": {},
     "nuid": "b2835a89-7489-4ea5-af3d-e4ce2bd08640",
     "showTitle": false,
     "title": ""
    }
   },
   "outputs": [
    {
     "data": {
      "text/html": [
       "<style scoped>\n",
       "  .ansiout {\n",
       "    display: block;\n",
       "    unicode-bidi: embed;\n",
       "    white-space: pre-wrap;\n",
       "    word-wrap: break-word;\n",
       "    word-break: break-all;\n",
       "    font-family: \"Source Code Pro\", \"Menlo\", monospace;;\n",
       "    font-size: 13px;\n",
       "    color: #555;\n",
       "    margin-left: 4px;\n",
       "    line-height: 19px;\n",
       "  }\n",
       "</style>\n",
       "<div class=\"ansiout\"></div>"
      ]
     },
     "metadata": {
      "application/vnd.databricks.v1+output": {
       "addedWidgets": {},
       "arguments": {},
       "data": "<div class=\"ansiout\"></div>",
       "datasetInfos": [],
       "metadata": {},
       "removedWidgets": [],
       "type": "html"
      }
     },
     "output_type": "display_data"
    }
   ],
   "source": [
    "PUR_pipeline = Pipeline(\n",
    "    stages = [\n",
    "        document_assembler,\n",
    "        sentenceDetector,\n",
    "        tokenizer,\n",
    "        normalizer,\n",
    "        stopwords_cleaner,\n",
    "        lemma,\n",
    "        word_embeddings,\n",
    "        embeddingsSentence,\n",
    "        classifierdl\n",
    "    ]\n",
    ")"
   ]
  },
  {
   "cell_type": "code",
   "execution_count": 0,
   "metadata": {
    "application/vnd.databricks.v1+cell": {
     "inputWidgets": {},
     "nuid": "dd7f350f-a802-403d-9a92-0507ddd02039",
     "showTitle": false,
     "title": ""
    }
   },
   "outputs": [
    {
     "data": {
      "text/html": [
       "<style scoped>\n",
       "  .ansiout {\n",
       "    display: block;\n",
       "    unicode-bidi: embed;\n",
       "    white-space: pre-wrap;\n",
       "    word-wrap: break-word;\n",
       "    word-break: break-all;\n",
       "    font-family: \"Source Code Pro\", \"Menlo\", monospace;;\n",
       "    font-size: 13px;\n",
       "    color: #555;\n",
       "    margin-left: 4px;\n",
       "    line-height: 19px;\n",
       "  }\n",
       "</style>\n",
       "<div class=\"ansiout\"></div>"
      ]
     },
     "metadata": {
      "application/vnd.databricks.v1+output": {
       "addedWidgets": {},
       "arguments": {},
       "data": "<div class=\"ansiout\"></div>",
       "datasetInfos": [],
       "metadata": {},
       "removedWidgets": [],
       "type": "html"
      }
     },
     "output_type": "display_data"
    }
   ],
   "source": [
    "PRU_pipelineModel = PUR_pipeline.fit(spark_train)"
   ]
  },
  {
   "cell_type": "code",
   "execution_count": 0,
   "metadata": {
    "application/vnd.databricks.v1+cell": {
     "inputWidgets": {},
     "nuid": "6dd926d3-2457-4bd9-a3d2-e254f66f01fe",
     "showTitle": false,
     "title": ""
    }
   },
   "outputs": [
    {
     "data": {
      "text/html": [
       "<style scoped>\n",
       "  .ansiout {\n",
       "    display: block;\n",
       "    unicode-bidi: embed;\n",
       "    white-space: pre-wrap;\n",
       "    word-wrap: break-word;\n",
       "    word-break: break-all;\n",
       "    font-family: \"Source Code Pro\", \"Menlo\", monospace;;\n",
       "    font-size: 13px;\n",
       "    color: #555;\n",
       "    margin-left: 4px;\n",
       "    line-height: 19px;\n",
       "  }\n",
       "</style>\n",
       "<div class=\"ansiout\"></div>"
      ]
     },
     "metadata": {
      "application/vnd.databricks.v1+output": {
       "addedWidgets": {},
       "arguments": {},
       "data": "<div class=\"ansiout\"></div>",
       "datasetInfos": [],
       "metadata": {},
       "removedWidgets": [],
       "type": "html"
      }
     },
     "output_type": "display_data"
    }
   ],
   "source": [
    "def handle_s(year_range = [2015, 2016, 2017], month_range = range(1, 13)):\n",
    "    for year in year_range:\n",
    "        for month in month_range:\n",
    "            month_literal = str(month)\n",
    "            data_path = \"/mnt/lsde/group05/kwfilter_top3/\" + str(year) + \"-\" + month_literal + \".parquet\"\n",
    "            print(\"start handling \"+str(year) + \"-\" + month_literal)\n",
    "            df =spark.read.load(data_path,format=\"parquet\")\n",
    "            df_pre = PRU_pipelineModel.transform(df.select(col(\"id\"),col(\"title\").alias(\"message\"),col(\"created_utc\")))\n",
    "            df_pre.select(\"id\",\"class.result\",\"created_utc\").write.mode(\"overwrite\").format(\"parquet\").save(\"/mnt/lsde/group05/\"+\"submission_position/\"+str(year)+'-'+month_literal+\".parquet\")\n",
    "            print(\"finish handling \"+str(year) + \"-\" + month_literal)\n",
    "            "
   ]
  },
  {
   "cell_type": "code",
   "execution_count": 0,
   "metadata": {
    "application/vnd.databricks.v1+cell": {
     "inputWidgets": {},
     "nuid": "09481b1a-ec0e-4d40-9384-e6ba0485894f",
     "showTitle": false,
     "title": ""
    }
   },
   "outputs": [
    {
     "data": {
      "text/html": [
       "<style scoped>\n",
       "  .ansiout {\n",
       "    display: block;\n",
       "    unicode-bidi: embed;\n",
       "    white-space: pre-wrap;\n",
       "    word-wrap: break-word;\n",
       "    word-break: break-all;\n",
       "    font-family: \"Source Code Pro\", \"Menlo\", monospace;;\n",
       "    font-size: 13px;\n",
       "    color: #555;\n",
       "    margin-left: 4px;\n",
       "    line-height: 19px;\n",
       "  }\n",
       "</style>"
      ]
     },
     "metadata": {
      "application/vnd.databricks.v1+output": {
       "arguments": {},
       "data": "",
       "errorSummary": "Cancelled",
       "errorTraceType": "html",
       "metadata": {},
       "type": "ipynbError"
      }
     },
     "output_type": "display_data"
    }
   ],
   "source": [
    "handle_s([2014],range(2,13))"
   ]
  },
  {
   "cell_type": "code",
   "execution_count": 0,
   "metadata": {
    "application/vnd.databricks.v1+cell": {
     "inputWidgets": {},
     "nuid": "d4697cab-98a0-463f-b38e-c41d9ab40728",
     "showTitle": false,
     "title": ""
    }
   },
   "outputs": [
    {
     "data": {
      "text/html": [
       "<style scoped>\n",
       "  .ansiout {\n",
       "    display: block;\n",
       "    unicode-bidi: embed;\n",
       "    white-space: pre-wrap;\n",
       "    word-wrap: break-word;\n",
       "    word-break: break-all;\n",
       "    font-family: \"Source Code Pro\", \"Menlo\", monospace;;\n",
       "    font-size: 13px;\n",
       "    color: #555;\n",
       "    margin-left: 4px;\n",
       "    line-height: 19px;\n",
       "  }\n",
       "</style>\n",
       "<div class=\"ansiout\">start handling 2015-1\n",
       "finish handling 2015-1\n",
       "start handling 2015-2\n",
       "finish handling 2015-2\n",
       "start handling 2015-3\n",
       "finish handling 2015-3\n",
       "start handling 2015-4\n",
       "finish handling 2015-4\n",
       "start handling 2015-5\n",
       "finish handling 2015-5\n",
       "start handling 2015-6\n",
       "finish handling 2015-6\n",
       "start handling 2015-7\n",
       "finish handling 2015-7\n",
       "start handling 2015-8\n",
       "finish handling 2015-8\n",
       "start handling 2015-9\n",
       "finish handling 2015-9\n",
       "start handling 2015-10\n",
       "finish handling 2015-10\n",
       "start handling 2015-11\n",
       "finish handling 2015-11\n",
       "start handling 2015-12\n",
       "finish handling 2015-12\n",
       "</div>"
      ]
     },
     "metadata": {
      "application/vnd.databricks.v1+output": {
       "addedWidgets": {},
       "arguments": {},
       "data": "<div class=\"ansiout\">start handling 2015-1\nfinish handling 2015-1\nstart handling 2015-2\nfinish handling 2015-2\nstart handling 2015-3\nfinish handling 2015-3\nstart handling 2015-4\nfinish handling 2015-4\nstart handling 2015-5\nfinish handling 2015-5\nstart handling 2015-6\nfinish handling 2015-6\nstart handling 2015-7\nfinish handling 2015-7\nstart handling 2015-8\nfinish handling 2015-8\nstart handling 2015-9\nfinish handling 2015-9\nstart handling 2015-10\nfinish handling 2015-10\nstart handling 2015-11\nfinish handling 2015-11\nstart handling 2015-12\nfinish handling 2015-12\n</div>",
       "datasetInfos": [],
       "metadata": {},
       "removedWidgets": [],
       "type": "html"
      }
     },
     "output_type": "display_data"
    }
   ],
   "source": [
    "handle_s([2015],range(1,13))"
   ]
  },
  {
   "cell_type": "code",
   "execution_count": 0,
   "metadata": {
    "application/vnd.databricks.v1+cell": {
     "inputWidgets": {},
     "nuid": "6526d712-eb61-4e9e-b465-421816cedf06",
     "showTitle": false,
     "title": ""
    }
   },
   "outputs": [
    {
     "data": {
      "text/html": [
       "<style scoped>\n",
       "  .ansiout {\n",
       "    display: block;\n",
       "    unicode-bidi: embed;\n",
       "    white-space: pre-wrap;\n",
       "    word-wrap: break-word;\n",
       "    word-break: break-all;\n",
       "    font-family: \"Source Code Pro\", \"Menlo\", monospace;;\n",
       "    font-size: 13px;\n",
       "    color: #555;\n",
       "    margin-left: 4px;\n",
       "    line-height: 19px;\n",
       "  }\n",
       "</style>\n",
       "<div class=\"ansiout\">start handling 2016-1\n",
       "finish handling 2016-1\n",
       "start handling 2016-2\n",
       "finish handling 2016-2\n",
       "start handling 2016-3\n",
       "finish handling 2016-3\n",
       "start handling 2016-4\n",
       "finish handling 2016-4\n",
       "start handling 2016-5\n",
       "finish handling 2016-5\n",
       "start handling 2016-6\n",
       "finish handling 2016-6\n",
       "start handling 2016-7\n",
       "finish handling 2016-7\n",
       "start handling 2016-8\n",
       "finish handling 2016-8\n",
       "start handling 2016-9\n",
       "finish handling 2016-9\n",
       "start handling 2016-10\n",
       "finish handling 2016-10\n",
       "start handling 2016-11\n",
       "finish handling 2016-11\n",
       "start handling 2016-12\n",
       "finish handling 2016-12\n",
       "start handling 2017-1\n",
       "finish handling 2017-1\n",
       "start handling 2017-2\n",
       "finish handling 2017-2\n",
       "start handling 2017-3\n",
       "finish handling 2017-3\n",
       "start handling 2017-4\n",
       "finish handling 2017-4\n",
       "start handling 2017-5\n",
       "finish handling 2017-5\n",
       "start handling 2017-6\n",
       "finish handling 2017-6\n",
       "start handling 2017-7\n",
       "finish handling 2017-7\n",
       "start handling 2017-8\n",
       "finish handling 2017-8\n",
       "start handling 2017-9\n",
       "finish handling 2017-9\n",
       "start handling 2017-10\n",
       "finish handling 2017-10\n",
       "start handling 2017-11\n",
       "finish handling 2017-11\n",
       "start handling 2017-12\n",
       "finish handling 2017-12\n",
       "start handling 2018-1\n",
       "finish handling 2018-1\n",
       "start handling 2018-2\n",
       "finish handling 2018-2\n",
       "start handling 2018-3\n",
       "finish handling 2018-3\n",
       "start handling 2018-4\n",
       "finish handling 2018-4\n",
       "start handling 2018-5\n",
       "finish handling 2018-5\n",
       "start handling 2018-6\n",
       "finish handling 2018-6\n",
       "start handling 2018-7\n",
       "finish handling 2018-7\n",
       "start handling 2018-8\n",
       "finish handling 2018-8\n",
       "start handling 2018-9\n",
       "finish handling 2018-9\n",
       "start handling 2018-10\n",
       "finish handling 2018-10\n",
       "start handling 2018-11\n",
       "finish handling 2018-11\n",
       "start handling 2018-12\n",
       "finish handling 2018-12\n",
       "start handling 2019-1\n",
       "finish handling 2019-1\n",
       "start handling 2019-2\n",
       "finish handling 2019-2\n",
       "start handling 2019-3\n",
       "finish handling 2019-3\n",
       "start handling 2019-4\n",
       "finish handling 2019-4\n",
       "start handling 2019-5\n",
       "finish handling 2019-5\n",
       "start handling 2019-6\n",
       "finish handling 2019-6\n",
       "start handling 2019-7\n",
       "finish handling 2019-7\n",
       "start handling 2019-8\n",
       "finish handling 2019-8\n",
       "start handling 2019-9\n",
       "finish handling 2019-9\n",
       "start handling 2019-10\n",
       "finish handling 2019-10\n",
       "start handling 2019-11\n",
       "finish handling 2019-11\n",
       "start handling 2019-12\n",
       "finish handling 2019-12\n",
       "start handling 2020-1\n",
       "finish handling 2020-1\n",
       "start handling 2020-2\n",
       "finish handling 2020-2\n",
       "start handling 2020-3\n",
       "finish handling 2020-3\n",
       "start handling 2020-4\n",
       "finish handling 2020-4\n",
       "start handling 2020-5\n",
       "finish handling 2020-5\n",
       "start handling 2020-6\n",
       "finish handling 2020-6\n",
       "start handling 2020-7\n",
       "finish handling 2020-7\n",
       "start handling 2020-8\n",
       "finish handling 2020-8\n",
       "start handling 2020-9\n",
       "finish handling 2020-9\n",
       "start handling 2020-10\n",
       "finish handling 2020-10\n",
       "start handling 2020-11\n",
       "finish handling 2020-11\n",
       "start handling 2020-12\n",
       "finish handling 2020-12\n",
       "start handling 2021-1\n",
       "finish handling 2021-1\n",
       "start handling 2021-2\n",
       "finish handling 2021-2\n",
       "start handling 2021-3\n",
       "finish handling 2021-3\n",
       "start handling 2021-4\n",
       "finish handling 2021-4\n",
       "start handling 2021-5\n",
       "finish handling 2021-5\n",
       "start handling 2021-6\n",
       "finish handling 2021-6\n",
       "start handling 2021-7\n",
       "finish handling 2021-7\n",
       "start handling 2021-8\n",
       "finish handling 2021-8\n",
       "start handling 2021-9\n",
       "finish handling 2021-9\n",
       "start handling 2021-10\n",
       "finish handling 2021-10\n",
       "start handling 2021-11\n",
       "finish handling 2021-11\n",
       "start handling 2021-12\n",
       "finish handling 2021-12\n",
       "</div>"
      ]
     },
     "metadata": {
      "application/vnd.databricks.v1+output": {
       "addedWidgets": {},
       "arguments": {},
       "data": "<div class=\"ansiout\">start handling 2016-1\nfinish handling 2016-1\nstart handling 2016-2\nfinish handling 2016-2\nstart handling 2016-3\nfinish handling 2016-3\nstart handling 2016-4\nfinish handling 2016-4\nstart handling 2016-5\nfinish handling 2016-5\nstart handling 2016-6\nfinish handling 2016-6\nstart handling 2016-7\nfinish handling 2016-7\nstart handling 2016-8\nfinish handling 2016-8\nstart handling 2016-9\nfinish handling 2016-9\nstart handling 2016-10\nfinish handling 2016-10\nstart handling 2016-11\nfinish handling 2016-11\nstart handling 2016-12\nfinish handling 2016-12\nstart handling 2017-1\nfinish handling 2017-1\nstart handling 2017-2\nfinish handling 2017-2\nstart handling 2017-3\nfinish handling 2017-3\nstart handling 2017-4\nfinish handling 2017-4\nstart handling 2017-5\nfinish handling 2017-5\nstart handling 2017-6\nfinish handling 2017-6\nstart handling 2017-7\nfinish handling 2017-7\nstart handling 2017-8\nfinish handling 2017-8\nstart handling 2017-9\nfinish handling 2017-9\nstart handling 2017-10\nfinish handling 2017-10\nstart handling 2017-11\nfinish handling 2017-11\nstart handling 2017-12\nfinish handling 2017-12\nstart handling 2018-1\nfinish handling 2018-1\nstart handling 2018-2\nfinish handling 2018-2\nstart handling 2018-3\nfinish handling 2018-3\nstart handling 2018-4\nfinish handling 2018-4\nstart handling 2018-5\nfinish handling 2018-5\nstart handling 2018-6\nfinish handling 2018-6\nstart handling 2018-7\nfinish handling 2018-7\nstart handling 2018-8\nfinish handling 2018-8\nstart handling 2018-9\nfinish handling 2018-9\nstart handling 2018-10\nfinish handling 2018-10\nstart handling 2018-11\nfinish handling 2018-11\nstart handling 2018-12\nfinish handling 2018-12\nstart handling 2019-1\nfinish handling 2019-1\nstart handling 2019-2\nfinish handling 2019-2\nstart handling 2019-3\nfinish handling 2019-3\nstart handling 2019-4\nfinish handling 2019-4\nstart handling 2019-5\nfinish handling 2019-5\nstart handling 2019-6\nfinish handling 2019-6\nstart handling 2019-7\nfinish handling 2019-7\nstart handling 2019-8\nfinish handling 2019-8\nstart handling 2019-9\nfinish handling 2019-9\nstart handling 2019-10\nfinish handling 2019-10\nstart handling 2019-11\nfinish handling 2019-11\nstart handling 2019-12\nfinish handling 2019-12\nstart handling 2020-1\nfinish handling 2020-1\nstart handling 2020-2\nfinish handling 2020-2\nstart handling 2020-3\nfinish handling 2020-3\nstart handling 2020-4\nfinish handling 2020-4\nstart handling 2020-5\nfinish handling 2020-5\nstart handling 2020-6\nfinish handling 2020-6\nstart handling 2020-7\nfinish handling 2020-7\nstart handling 2020-8\nfinish handling 2020-8\nstart handling 2020-9\nfinish handling 2020-9\nstart handling 2020-10\nfinish handling 2020-10\nstart handling 2020-11\nfinish handling 2020-11\nstart handling 2020-12\nfinish handling 2020-12\nstart handling 2021-1\nfinish handling 2021-1\nstart handling 2021-2\nfinish handling 2021-2\nstart handling 2021-3\nfinish handling 2021-3\nstart handling 2021-4\nfinish handling 2021-4\nstart handling 2021-5\nfinish handling 2021-5\nstart handling 2021-6\nfinish handling 2021-6\nstart handling 2021-7\nfinish handling 2021-7\nstart handling 2021-8\nfinish handling 2021-8\nstart handling 2021-9\nfinish handling 2021-9\nstart handling 2021-10\nfinish handling 2021-10\nstart handling 2021-11\nfinish handling 2021-11\nstart handling 2021-12\nfinish handling 2021-12\n</div>",
       "datasetInfos": [],
       "metadata": {},
       "removedWidgets": [],
       "type": "html"
      }
     },
     "output_type": "display_data"
    }
   ],
   "source": [
    "handle_s(range(2016,2022),range(1,13))"
   ]
  },
  {
   "cell_type": "code",
   "execution_count": 0,
   "metadata": {
    "application/vnd.databricks.v1+cell": {
     "inputWidgets": {},
     "nuid": "fc665e0f-c665-4baf-80fc-903aaaefa37a",
     "showTitle": false,
     "title": ""
    }
   },
   "outputs": [
    {
     "data": {
      "text/html": [
       "<style scoped>\n",
       "  .ansiout {\n",
       "    display: block;\n",
       "    unicode-bidi: embed;\n",
       "    white-space: pre-wrap;\n",
       "    word-wrap: break-word;\n",
       "    word-break: break-all;\n",
       "    font-family: \"Source Code Pro\", \"Menlo\", monospace;;\n",
       "    font-size: 13px;\n",
       "    color: #555;\n",
       "    margin-left: 4px;\n",
       "    line-height: 19px;\n",
       "  }\n",
       "</style>\n",
       "<div class=\"ansiout\">start handling 2022-1\n",
       "finish handling 2022-1\n",
       "start handling 2022-2\n",
       "finish handling 2022-2\n",
       "start handling 2022-3\n",
       "finish handling 2022-3\n",
       "start handling 2022-4\n",
       "finish handling 2022-4\n",
       "start handling 2022-5\n",
       "finish handling 2022-5\n",
       "start handling 2022-6\n",
       "finish handling 2022-6\n",
       "start handling 2022-7\n",
       "finish handling 2022-7\n",
       "start handling 2022-8\n",
       "finish handling 2022-8\n",
       "</div>"
      ]
     },
     "metadata": {
      "application/vnd.databricks.v1+output": {
       "addedWidgets": {},
       "arguments": {},
       "data": "<div class=\"ansiout\">start handling 2022-1\nfinish handling 2022-1\nstart handling 2022-2\nfinish handling 2022-2\nstart handling 2022-3\nfinish handling 2022-3\nstart handling 2022-4\nfinish handling 2022-4\nstart handling 2022-5\nfinish handling 2022-5\nstart handling 2022-6\nfinish handling 2022-6\nstart handling 2022-7\nfinish handling 2022-7\nstart handling 2022-8\nfinish handling 2022-8\n</div>",
       "datasetInfos": [],
       "metadata": {},
       "removedWidgets": [],
       "type": "html"
      }
     },
     "output_type": "display_data"
    }
   ],
   "source": [
    "handle_s([2022],range(1,9))"
   ]
  },
  {
   "cell_type": "code",
   "execution_count": 0,
   "metadata": {
    "application/vnd.databricks.v1+cell": {
     "inputWidgets": {},
     "nuid": "640a4883-c0e6-41ba-9534-aa28d4b48ed4",
     "showTitle": false,
     "title": ""
    }
   },
   "outputs": [
    {
     "data": {
      "text/html": [
       "<style scoped>\n",
       "  .ansiout {\n",
       "    display: block;\n",
       "    unicode-bidi: embed;\n",
       "    white-space: pre-wrap;\n",
       "    word-wrap: break-word;\n",
       "    word-break: break-all;\n",
       "    font-family: \"Source Code Pro\", \"Menlo\", monospace;;\n",
       "    font-size: 13px;\n",
       "    color: #555;\n",
       "    margin-left: 4px;\n",
       "    line-height: 19px;\n",
       "  }\n",
       "</style>\n",
       "<div class=\"ansiout\"></div>"
      ]
     },
     "metadata": {
      "application/vnd.databricks.v1+output": {
       "addedWidgets": {},
       "arguments": {},
       "data": "<div class=\"ansiout\"></div>",
       "datasetInfos": [],
       "metadata": {},
       "removedWidgets": [],
       "type": "html"
      }
     },
     "output_type": "display_data"
    }
   ],
   "source": [
    "def handle_c(year_range = [2015, 2016, 2017], month_range = range(1, 13)):\n",
    "    for year in year_range:\n",
    "        for month in month_range:\n",
    "            month_literal = str(month)\n",
    "            data_path = \"/mnt/lsde/group05/filtered_comments/\" + str(year) + \"-\" + month_literal + \".parquet\"\n",
    "            print(\"start handling \"+str(year) + \"-\" + month_literal)\n",
    "            df =spark.read.load(data_path,format=\"parquet\")\n",
    "            df_pre = PRU_pipelineModel.transform(df.select(col(\"parent_id\"),col(\"id\"),col(\"body\").alias(\"message\"),col(\"created_utc\")))\n",
    "            df_pre.select(\"parent_id\",\"id\",\"class.result\",\"created_utc\").write.mode(\"overwrite\").format(\"parquet\").save(\"/mnt/lsde/group05/\"+\n",
    "                                                                                                                        \"comment_position/\"+str(year)+\n",
    "                                                                                                                        '-'+month_literal+\".parquet\")\n",
    "            print(\"finish handling \"+str(year) + \"-\" + month_literal)"
   ]
  },
  {
   "cell_type": "code",
   "execution_count": 0,
   "metadata": {
    "application/vnd.databricks.v1+cell": {
     "inputWidgets": {},
     "nuid": "18ed215c-e42c-42c6-876a-1ae2284610fe",
     "showTitle": false,
     "title": ""
    }
   },
   "outputs": [
    {
     "data": {
      "text/html": [
       "<style scoped>\n",
       "  .ansiout {\n",
       "    display: block;\n",
       "    unicode-bidi: embed;\n",
       "    white-space: pre-wrap;\n",
       "    word-wrap: break-word;\n",
       "    word-break: break-all;\n",
       "    font-family: \"Source Code Pro\", \"Menlo\", monospace;;\n",
       "    font-size: 13px;\n",
       "    color: #555;\n",
       "    margin-left: 4px;\n",
       "    line-height: 19px;\n",
       "  }\n",
       "</style>\n",
       "<div class=\"ansiout\">start handling 2014-2\n",
       "finish handling 2014-2\n",
       "start handling 2014-3\n",
       "finish handling 2014-3\n",
       "start handling 2014-4\n",
       "finish handling 2014-4\n",
       "start handling 2014-5\n",
       "finish handling 2014-5\n",
       "start handling 2014-6\n",
       "finish handling 2014-6\n",
       "start handling 2014-7\n",
       "finish handling 2014-7\n",
       "start handling 2014-8\n",
       "finish handling 2014-8\n",
       "start handling 2014-9\n",
       "finish handling 2014-9\n",
       "start handling 2014-10\n",
       "finish handling 2014-10\n",
       "start handling 2014-11\n",
       "finish handling 2014-11\n",
       "start handling 2014-12\n",
       "finish handling 2014-12\n",
       "</div>"
      ]
     },
     "metadata": {
      "application/vnd.databricks.v1+output": {
       "addedWidgets": {},
       "arguments": {},
       "data": "<div class=\"ansiout\">start handling 2014-2\nfinish handling 2014-2\nstart handling 2014-3\nfinish handling 2014-3\nstart handling 2014-4\nfinish handling 2014-4\nstart handling 2014-5\nfinish handling 2014-5\nstart handling 2014-6\nfinish handling 2014-6\nstart handling 2014-7\nfinish handling 2014-7\nstart handling 2014-8\nfinish handling 2014-8\nstart handling 2014-9\nfinish handling 2014-9\nstart handling 2014-10\nfinish handling 2014-10\nstart handling 2014-11\nfinish handling 2014-11\nstart handling 2014-12\nfinish handling 2014-12\n</div>",
       "datasetInfos": [],
       "metadata": {},
       "removedWidgets": [],
       "type": "html"
      }
     },
     "output_type": "display_data"
    }
   ],
   "source": [
    "handle_c([2014],range(2,13))"
   ]
  },
  {
   "cell_type": "code",
   "execution_count": 0,
   "metadata": {
    "application/vnd.databricks.v1+cell": {
     "inputWidgets": {},
     "nuid": "37ac986c-2316-4318-bc86-193bf2c8cefe",
     "showTitle": false,
     "title": ""
    }
   },
   "outputs": [
    {
     "data": {
      "text/html": [
       "<style scoped>\n",
       "  .ansiout {\n",
       "    display: block;\n",
       "    unicode-bidi: embed;\n",
       "    white-space: pre-wrap;\n",
       "    word-wrap: break-word;\n",
       "    word-break: break-all;\n",
       "    font-family: \"Source Code Pro\", \"Menlo\", monospace;;\n",
       "    font-size: 13px;\n",
       "    color: #555;\n",
       "    margin-left: 4px;\n",
       "    line-height: 19px;\n",
       "  }\n",
       "</style>\n",
       "<div class=\"ansiout\">start handling 2015-1\n",
       "finish handling 2015-1\n",
       "start handling 2015-2\n",
       "finish handling 2015-2\n",
       "start handling 2015-3\n",
       "finish handling 2015-3\n",
       "start handling 2015-4\n",
       "finish handling 2015-4\n",
       "start handling 2015-5\n",
       "finish handling 2015-5\n",
       "start handling 2015-6\n",
       "finish handling 2015-6\n",
       "start handling 2015-7\n",
       "finish handling 2015-7\n",
       "start handling 2015-8\n",
       "finish handling 2015-8\n",
       "start handling 2015-9\n",
       "finish handling 2015-9\n",
       "start handling 2015-10\n",
       "finish handling 2015-10\n",
       "start handling 2015-11\n",
       "finish handling 2015-11\n",
       "start handling 2015-12\n",
       "finish handling 2015-12\n",
       "start handling 2016-1\n",
       "finish handling 2016-1\n",
       "start handling 2016-2\n",
       "finish handling 2016-2\n",
       "start handling 2016-3\n",
       "finish handling 2016-3\n",
       "start handling 2016-4\n",
       "finish handling 2016-4\n",
       "start handling 2016-5\n",
       "finish handling 2016-5\n",
       "start handling 2016-6\n",
       "finish handling 2016-6\n",
       "start handling 2016-7\n",
       "finish handling 2016-7\n",
       "start handling 2016-8\n",
       "finish handling 2016-8\n",
       "start handling 2016-9\n",
       "finish handling 2016-9\n",
       "start handling 2016-10\n",
       "finish handling 2016-10\n",
       "start handling 2016-11\n",
       "finish handling 2016-11\n",
       "start handling 2016-12\n",
       "finish handling 2016-12\n",
       "start handling 2017-1\n",
       "finish handling 2017-1\n",
       "start handling 2017-2\n",
       "finish handling 2017-2\n",
       "start handling 2017-3\n",
       "finish handling 2017-3\n",
       "start handling 2017-4\n",
       "finish handling 2017-4\n",
       "start handling 2017-5\n",
       "finish handling 2017-5\n",
       "start handling 2017-6\n",
       "finish handling 2017-6\n",
       "start handling 2017-7\n",
       "finish handling 2017-7\n",
       "start handling 2017-8\n",
       "finish handling 2017-8\n",
       "start handling 2017-9\n",
       "finish handling 2017-9\n",
       "start handling 2017-10\n",
       "finish handling 2017-10\n",
       "start handling 2017-11\n",
       "finish handling 2017-11\n",
       "start handling 2017-12\n",
       "finish handling 2017-12\n",
       "start handling 2018-1\n",
       "finish handling 2018-1\n",
       "start handling 2018-2\n",
       "finish handling 2018-2\n",
       "start handling 2018-3\n",
       "finish handling 2018-3\n",
       "start handling 2018-4\n",
       "finish handling 2018-4\n",
       "start handling 2018-5\n",
       "finish handling 2018-5\n",
       "start handling 2018-6\n",
       "finish handling 2018-6\n",
       "start handling 2018-7\n",
       "finish handling 2018-7\n",
       "start handling 2018-8\n",
       "finish handling 2018-8\n",
       "start handling 2018-9\n",
       "finish handling 2018-9\n",
       "start handling 2018-10\n",
       "finish handling 2018-10\n",
       "start handling 2018-11\n",
       "finish handling 2018-11\n",
       "start handling 2018-12\n",
       "finish handling 2018-12\n",
       "start handling 2019-1\n",
       "finish handling 2019-1\n",
       "start handling 2019-2\n",
       "finish handling 2019-2\n",
       "start handling 2019-3\n",
       "finish handling 2019-3\n",
       "start handling 2019-4\n",
       "finish handling 2019-4\n",
       "start handling 2019-5\n",
       "finish handling 2019-5\n",
       "start handling 2019-6\n",
       "finish handling 2019-6\n",
       "start handling 2019-7\n",
       "finish handling 2019-7\n",
       "start handling 2019-8\n",
       "finish handling 2019-8\n",
       "start handling 2019-9\n",
       "finish handling 2019-9\n",
       "start handling 2019-10\n",
       "finish handling 2019-10\n",
       "start handling 2019-11\n",
       "finish handling 2019-11\n",
       "start handling 2019-12\n",
       "finish handling 2019-12\n",
       "start handling 2020-1\n",
       "finish handling 2020-1\n",
       "start handling 2020-2\n",
       "finish handling 2020-2\n",
       "start handling 2020-3\n",
       "finish handling 2020-3\n",
       "start handling 2020-4\n",
       "finish handling 2020-4\n",
       "start handling 2020-5\n",
       "finish handling 2020-5\n",
       "start handling 2020-6\n",
       "finish handling 2020-6\n",
       "start handling 2020-7\n",
       "finish handling 2020-7\n",
       "start handling 2020-8\n",
       "finish handling 2020-8\n",
       "start handling 2020-9\n",
       "finish handling 2020-9\n",
       "start handling 2020-10\n",
       "finish handling 2020-10\n",
       "start handling 2020-11\n",
       "finish handling 2020-11\n",
       "start handling 2020-12\n",
       "finish handling 2020-12\n",
       "start handling 2021-1\n",
       "finish handling 2021-1\n",
       "start handling 2021-2\n",
       "finish handling 2021-2\n",
       "start handling 2021-3\n",
       "finish handling 2021-3\n",
       "start handling 2021-4\n",
       "finish handling 2021-4\n",
       "start handling 2021-5\n",
       "finish handling 2021-5\n",
       "start handling 2021-6\n",
       "finish handling 2021-6\n",
       "start handling 2021-7\n",
       "finish handling 2021-7\n",
       "start handling 2021-8\n",
       "finish handling 2021-8\n",
       "start handling 2021-9\n",
       "finish handling 2021-9\n",
       "start handling 2021-10\n",
       "finish handling 2021-10\n",
       "start handling 2021-11\n",
       "finish handling 2021-11\n",
       "start handling 2021-12\n",
       "finish handling 2021-12\n",
       "</div>"
      ]
     },
     "metadata": {
      "application/vnd.databricks.v1+output": {
       "addedWidgets": {},
       "arguments": {},
       "data": "<div class=\"ansiout\">start handling 2015-1\nfinish handling 2015-1\nstart handling 2015-2\nfinish handling 2015-2\nstart handling 2015-3\nfinish handling 2015-3\nstart handling 2015-4\nfinish handling 2015-4\nstart handling 2015-5\nfinish handling 2015-5\nstart handling 2015-6\nfinish handling 2015-6\nstart handling 2015-7\nfinish handling 2015-7\nstart handling 2015-8\nfinish handling 2015-8\nstart handling 2015-9\nfinish handling 2015-9\nstart handling 2015-10\nfinish handling 2015-10\nstart handling 2015-11\nfinish handling 2015-11\nstart handling 2015-12\nfinish handling 2015-12\nstart handling 2016-1\nfinish handling 2016-1\nstart handling 2016-2\nfinish handling 2016-2\nstart handling 2016-3\nfinish handling 2016-3\nstart handling 2016-4\nfinish handling 2016-4\nstart handling 2016-5\nfinish handling 2016-5\nstart handling 2016-6\nfinish handling 2016-6\nstart handling 2016-7\nfinish handling 2016-7\nstart handling 2016-8\nfinish handling 2016-8\nstart handling 2016-9\nfinish handling 2016-9\nstart handling 2016-10\nfinish handling 2016-10\nstart handling 2016-11\nfinish handling 2016-11\nstart handling 2016-12\nfinish handling 2016-12\nstart handling 2017-1\nfinish handling 2017-1\nstart handling 2017-2\nfinish handling 2017-2\nstart handling 2017-3\nfinish handling 2017-3\nstart handling 2017-4\nfinish handling 2017-4\nstart handling 2017-5\nfinish handling 2017-5\nstart handling 2017-6\nfinish handling 2017-6\nstart handling 2017-7\nfinish handling 2017-7\nstart handling 2017-8\nfinish handling 2017-8\nstart handling 2017-9\nfinish handling 2017-9\nstart handling 2017-10\nfinish handling 2017-10\nstart handling 2017-11\nfinish handling 2017-11\nstart handling 2017-12\nfinish handling 2017-12\nstart handling 2018-1\nfinish handling 2018-1\nstart handling 2018-2\nfinish handling 2018-2\nstart handling 2018-3\nfinish handling 2018-3\nstart handling 2018-4\nfinish handling 2018-4\nstart handling 2018-5\nfinish handling 2018-5\nstart handling 2018-6\nfinish handling 2018-6\nstart handling 2018-7\nfinish handling 2018-7\nstart handling 2018-8\nfinish handling 2018-8\nstart handling 2018-9\nfinish handling 2018-9\nstart handling 2018-10\nfinish handling 2018-10\nstart handling 2018-11\nfinish handling 2018-11\nstart handling 2018-12\nfinish handling 2018-12\nstart handling 2019-1\nfinish handling 2019-1\nstart handling 2019-2\nfinish handling 2019-2\nstart handling 2019-3\nfinish handling 2019-3\nstart handling 2019-4\nfinish handling 2019-4\nstart handling 2019-5\nfinish handling 2019-5\nstart handling 2019-6\nfinish handling 2019-6\nstart handling 2019-7\nfinish handling 2019-7\nstart handling 2019-8\nfinish handling 2019-8\nstart handling 2019-9\nfinish handling 2019-9\nstart handling 2019-10\nfinish handling 2019-10\nstart handling 2019-11\nfinish handling 2019-11\nstart handling 2019-12\nfinish handling 2019-12\nstart handling 2020-1\nfinish handling 2020-1\nstart handling 2020-2\nfinish handling 2020-2\nstart handling 2020-3\nfinish handling 2020-3\nstart handling 2020-4\nfinish handling 2020-4\nstart handling 2020-5\nfinish handling 2020-5\nstart handling 2020-6\nfinish handling 2020-6\nstart handling 2020-7\nfinish handling 2020-7\nstart handling 2020-8\nfinish handling 2020-8\nstart handling 2020-9\nfinish handling 2020-9\nstart handling 2020-10\nfinish handling 2020-10\nstart handling 2020-11\nfinish handling 2020-11\nstart handling 2020-12\nfinish handling 2020-12\nstart handling 2021-1\nfinish handling 2021-1\nstart handling 2021-2\nfinish handling 2021-2\nstart handling 2021-3\nfinish handling 2021-3\nstart handling 2021-4\nfinish handling 2021-4\nstart handling 2021-5\nfinish handling 2021-5\nstart handling 2021-6\nfinish handling 2021-6\nstart handling 2021-7\nfinish handling 2021-7\nstart handling 2021-8\nfinish handling 2021-8\nstart handling 2021-9\nfinish handling 2021-9\nstart handling 2021-10\nfinish handling 2021-10\nstart handling 2021-11\nfinish handling 2021-11\nstart handling 2021-12\nfinish handling 2021-12\n</div>",
       "datasetInfos": [],
       "metadata": {},
       "removedWidgets": [],
       "type": "html"
      }
     },
     "output_type": "display_data"
    }
   ],
   "source": [
    "handle_c(range(2015,2022),range(1,13))"
   ]
  },
  {
   "cell_type": "code",
   "execution_count": 0,
   "metadata": {
    "application/vnd.databricks.v1+cell": {
     "inputWidgets": {},
     "nuid": "337e8cd8-5c31-4f61-b9e8-7be477adf03e",
     "showTitle": false,
     "title": ""
    }
   },
   "outputs": [
    {
     "data": {
      "text/html": [
       "<style scoped>\n",
       "  .ansiout {\n",
       "    display: block;\n",
       "    unicode-bidi: embed;\n",
       "    white-space: pre-wrap;\n",
       "    word-wrap: break-word;\n",
       "    word-break: break-all;\n",
       "    font-family: \"Source Code Pro\", \"Menlo\", monospace;;\n",
       "    font-size: 13px;\n",
       "    color: #555;\n",
       "    margin-left: 4px;\n",
       "    line-height: 19px;\n",
       "  }\n",
       "</style>\n",
       "<div class=\"ansiout\">start handling 2022-1\n",
       "finish handling 2022-1\n",
       "start handling 2022-2\n",
       "finish handling 2022-2\n",
       "start handling 2022-3\n",
       "finish handling 2022-3\n",
       "start handling 2022-4\n",
       "finish handling 2022-4\n",
       "start handling 2022-5\n",
       "finish handling 2022-5\n",
       "start handling 2022-6\n",
       "finish handling 2022-6\n",
       "start handling 2022-7\n",
       "finish handling 2022-7\n",
       "start handling 2022-8\n",
       "finish handling 2022-8\n",
       "</div>"
      ]
     },
     "metadata": {
      "application/vnd.databricks.v1+output": {
       "addedWidgets": {},
       "arguments": {},
       "data": "<div class=\"ansiout\">start handling 2022-1\nfinish handling 2022-1\nstart handling 2022-2\nfinish handling 2022-2\nstart handling 2022-3\nfinish handling 2022-3\nstart handling 2022-4\nfinish handling 2022-4\nstart handling 2022-5\nfinish handling 2022-5\nstart handling 2022-6\nfinish handling 2022-6\nstart handling 2022-7\nfinish handling 2022-7\nstart handling 2022-8\nfinish handling 2022-8\n</div>",
       "datasetInfos": [],
       "metadata": {},
       "removedWidgets": [],
       "type": "html"
      }
     },
     "output_type": "display_data"
    }
   ],
   "source": [
    "handle_c([2022],range(1,9))"
   ]
  },
  {
   "cell_type": "code",
   "execution_count": 0,
   "metadata": {
    "application/vnd.databricks.v1+cell": {
     "inputWidgets": {},
     "nuid": "0791058f-a474-4f3d-a4aa-07be4f16a2a8",
     "showTitle": false,
     "title": ""
    }
   },
   "outputs": [],
   "source": []
  },
  {
   "cell_type": "code",
   "execution_count": 0,
   "metadata": {
    "application/vnd.databricks.v1+cell": {
     "inputWidgets": {},
     "nuid": "248fa173-d10e-457e-b918-184765fb9910",
     "showTitle": false,
     "title": ""
    }
   },
   "outputs": [],
   "source": []
  },
  {
   "cell_type": "code",
   "execution_count": 0,
   "metadata": {
    "application/vnd.databricks.v1+cell": {
     "inputWidgets": {},
     "nuid": "abbb06e7-08bf-44df-a7f0-7ffc676e79ea",
     "showTitle": false,
     "title": ""
    }
   },
   "outputs": [],
   "source": []
  },
  {
   "cell_type": "code",
   "execution_count": 0,
   "metadata": {
    "application/vnd.databricks.v1+cell": {
     "inputWidgets": {},
     "nuid": "a3eec7f7-65a1-4942-b1b2-667a50c728f7",
     "showTitle": false,
     "title": ""
    }
   },
   "outputs": [],
   "source": []
  },
  {
   "cell_type": "code",
   "execution_count": 0,
   "metadata": {
    "application/vnd.databricks.v1+cell": {
     "inputWidgets": {},
     "nuid": "70442632-f79c-4743-a637-ad123d8cecd0",
     "showTitle": false,
     "title": ""
    }
   },
   "outputs": [],
   "source": []
  },
  {
   "cell_type": "code",
   "execution_count": 0,
   "metadata": {
    "application/vnd.databricks.v1+cell": {
     "inputWidgets": {},
     "nuid": "e435518a-55f5-4e30-aed4-6963090a45f1",
     "showTitle": false,
     "title": ""
    }
   },
   "outputs": [],
   "source": []
  },
  {
   "cell_type": "code",
   "execution_count": 0,
   "metadata": {
    "application/vnd.databricks.v1+cell": {
     "inputWidgets": {},
     "nuid": "3a1e93cf-4c63-4c83-8aa3-6c8bc8fc1dc8",
     "showTitle": false,
     "title": ""
    }
   },
   "outputs": [],
   "source": []
  }
 ],
 "metadata": {
  "application/vnd.databricks.v1+notebook": {
   "dashboards": [],
   "language": "python",
   "notebookMetadata": {
    "pythonIndentUnit": 4
   },
   "notebookName": "ProUorR_Pipeline_train",
   "notebookOrigID": 3918888859997740,
   "widgets": {}
  },
  "kernelspec": {
   "display_name": "Python 3",
   "language": "python",
   "name": "python3"
  },
  "language_info": {
   "codemirror_mode": {
    "name": "ipython",
    "version": 3
   },
   "file_extension": ".py",
   "mimetype": "text/x-python",
   "name": "python",
   "nbconvert_exporter": "python",
   "pygments_lexer": "ipython3",
   "version": "3.7.5"
  }
 },
 "nbformat": 4,
 "nbformat_minor": 1
}
