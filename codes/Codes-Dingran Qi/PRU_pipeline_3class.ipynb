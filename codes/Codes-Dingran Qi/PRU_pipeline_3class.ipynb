{
 "cells": [
  {
   "cell_type": "markdown",
   "metadata": {},
   "source": [
    "### The code is partly from https://towardsdatascience.com/text-classification-in-spark-nlp-with-bert-and-universal-sentence-encoders-e644d618ca32"
   ]
  },
  {
   "cell_type": "code",
   "execution_count": 0,
   "metadata": {
    "application/vnd.databricks.v1+cell": {
     "inputWidgets": {},
     "nuid": "e07dc350-ba21-4c43-a2dc-2d1a80a28911",
     "showTitle": false,
     "title": ""
    }
   },
   "outputs": [
    {
     "data": {
      "text/html": [
       "<style scoped>\n",
       "  .ansiout {\n",
       "    display: block;\n",
       "    unicode-bidi: embed;\n",
       "    white-space: pre-wrap;\n",
       "    word-wrap: break-word;\n",
       "    word-break: break-all;\n",
       "    font-family: \"Source Code Pro\", \"Menlo\", monospace;;\n",
       "    font-size: 13px;\n",
       "    color: #555;\n",
       "    margin-left: 4px;\n",
       "    line-height: 19px;\n",
       "  }\n",
       "</style>\n",
       "<div class=\"ansiout\">Spark NLP version 4.2.0\n",
       "Apache Spark version: 3.2.1\n",
       "</div>"
      ]
     },
     "metadata": {
      "application/vnd.databricks.v1+output": {
       "addedWidgets": {},
       "arguments": {},
       "data": "<div class=\"ansiout\">Spark NLP version 4.2.0\nApache Spark version: 3.2.1\n</div>",
       "datasetInfos": [],
       "metadata": {},
       "removedWidgets": [],
       "type": "html"
      }
     },
     "output_type": "display_data"
    }
   ],
   "source": [
    "import sparknlp\n",
    "spark = sparknlp.start() \n",
    "# sparknlp.start(gpu=True) >> 在GPU上训练\n",
    "from sparknlp.base import *\n",
    "from sparknlp.annotator import *\n",
    "from pyspark.ml import Pipeline\n",
    "import pandas as pd\n",
    "print(\"Spark NLP version\", sparknlp.version())\n",
    "print(\"Apache Spark version:\", spark.version)"
   ]
  },
  {
   "cell_type": "code",
   "execution_count": 0,
   "metadata": {
    "application/vnd.databricks.v1+cell": {
     "inputWidgets": {},
     "nuid": "5241ae98-43de-4906-936f-760c46711b2d",
     "showTitle": false,
     "title": ""
    }
   },
   "outputs": [
    {
     "data": {
      "text/html": [
       "<style scoped>\n",
       "  .ansiout {\n",
       "    display: block;\n",
       "    unicode-bidi: embed;\n",
       "    white-space: pre-wrap;\n",
       "    word-wrap: break-word;\n",
       "    word-break: break-all;\n",
       "    font-family: \"Source Code Pro\", \"Menlo\", monospace;;\n",
       "    font-size: 13px;\n",
       "    color: #555;\n",
       "    margin-left: 4px;\n",
       "    line-height: 19px;\n",
       "  }\n",
       "</style>\n",
       "<div class=\"ansiout\"></div>"
      ]
     },
     "metadata": {
      "application/vnd.databricks.v1+output": {
       "addedWidgets": {},
       "arguments": {},
       "data": "<div class=\"ansiout\"></div>",
       "datasetInfos": [],
       "metadata": {},
       "removedWidgets": [],
       "type": "html"
      }
     },
     "output_type": "display_data"
    }
   ],
   "source": [
    "data = pd.read_csv('/dbfs/mnt/lsde/group05/labeled_data_comment.csv',encoding = \"ISO-8859-1\")"
   ]
  },
  {
   "cell_type": "code",
   "execution_count": 0,
   "metadata": {
    "application/vnd.databricks.v1+cell": {
     "inputWidgets": {},
     "nuid": "efe9db68-7494-4d33-b179-780b4a47ff8e",
     "showTitle": false,
     "title": ""
    }
   },
   "outputs": [
    {
     "data": {
      "text/html": [
       "<style scoped>\n",
       "  .ansiout {\n",
       "    display: block;\n",
       "    unicode-bidi: embed;\n",
       "    white-space: pre-wrap;\n",
       "    word-wrap: break-word;\n",
       "    word-break: break-all;\n",
       "    font-family: \"Source Code Pro\", \"Menlo\", monospace;;\n",
       "    font-size: 13px;\n",
       "    color: #555;\n",
       "    margin-left: 4px;\n",
       "    line-height: 19px;\n",
       "  }\n",
       "</style>\n",
       "<div class=\"ansiout\"></div>"
      ]
     },
     "metadata": {
      "application/vnd.databricks.v1+output": {
       "addedWidgets": {},
       "arguments": {},
       "data": "<div class=\"ansiout\"></div>",
       "datasetInfos": [],
       "metadata": {},
       "removedWidgets": [],
       "type": "html"
      }
     },
     "output_type": "display_data"
    }
   ],
   "source": [
    "clist = []\n",
    "for i in range(1825):\n",
    "    if data[\"position\"][i] == 0 or data[\"position\"][i]==1:\n",
    "        clist.append(i)\n",
    "    if data[\"position\"][i] == 2 and i <900:\n",
    "        clist.append(i)"
   ]
  },
  {
   "cell_type": "code",
   "execution_count": 0,
   "metadata": {
    "application/vnd.databricks.v1+cell": {
     "inputWidgets": {},
     "nuid": "33cfdcce-dc87-4b3e-a832-70a1e360fd89",
     "showTitle": false,
     "title": ""
    }
   },
   "outputs": [
    {
     "data": {
      "text/html": [
       "<style scoped>\n",
       "  .ansiout {\n",
       "    display: block;\n",
       "    unicode-bidi: embed;\n",
       "    white-space: pre-wrap;\n",
       "    word-wrap: break-word;\n",
       "    word-break: break-all;\n",
       "    font-family: \"Source Code Pro\", \"Menlo\", monospace;;\n",
       "    font-size: 13px;\n",
       "    color: #555;\n",
       "    margin-left: 4px;\n",
       "    line-height: 19px;\n",
       "  }\n",
       "</style>\n",
       "<div class=\"ansiout\"></div>"
      ]
     },
     "metadata": {
      "application/vnd.databricks.v1+output": {
       "addedWidgets": {},
       "arguments": {},
       "data": "<div class=\"ansiout\"></div>",
       "datasetInfos": [],
       "metadata": {},
       "removedWidgets": [],
       "type": "html"
      }
     },
     "output_type": "display_data"
    }
   ],
   "source": [
    "data1 = pd.read_csv('/dbfs/mnt/lsde/group05/labeled_data_submission.csv',encoding = \"ISO-8859-1\")"
   ]
  },
  {
   "cell_type": "code",
   "execution_count": 0,
   "metadata": {
    "application/vnd.databricks.v1+cell": {
     "inputWidgets": {},
     "nuid": "9db952d8-9b07-44e8-8bd0-10e4545680a9",
     "showTitle": false,
     "title": ""
    }
   },
   "outputs": [
    {
     "data": {
      "text/html": [
       "<style scoped>\n",
       "  .ansiout {\n",
       "    display: block;\n",
       "    unicode-bidi: embed;\n",
       "    white-space: pre-wrap;\n",
       "    word-wrap: break-word;\n",
       "    word-break: break-all;\n",
       "    font-family: \"Source Code Pro\", \"Menlo\", monospace;;\n",
       "    font-size: 13px;\n",
       "    color: #555;\n",
       "    margin-left: 4px;\n",
       "    line-height: 19px;\n",
       "  }\n",
       "</style>\n",
       "<div class=\"ansiout\"></div>"
      ]
     },
     "metadata": {
      "application/vnd.databricks.v1+output": {
       "addedWidgets": {},
       "arguments": {},
       "data": "<div class=\"ansiout\"></div>",
       "datasetInfos": [],
       "metadata": {},
       "removedWidgets": [],
       "type": "html"
      }
     },
     "output_type": "display_data"
    }
   ],
   "source": [
    "slist = []\n",
    "for i in range(1717):\n",
    "    if data1[\"position\"][i] == 0 or data1[\"position\"][i]==1:\n",
    "        slist.append(i)"
   ]
  },
  {
   "cell_type": "code",
   "execution_count": 0,
   "metadata": {
    "application/vnd.databricks.v1+cell": {
     "inputWidgets": {},
     "nuid": "e87b2d62-5ecf-4cda-8ebb-1ab084735795",
     "showTitle": false,
     "title": ""
    }
   },
   "outputs": [
    {
     "data": {
      "text/html": [
       "<style scoped>\n",
       "  .ansiout {\n",
       "    display: block;\n",
       "    unicode-bidi: embed;\n",
       "    white-space: pre-wrap;\n",
       "    word-wrap: break-word;\n",
       "    word-break: break-all;\n",
       "    font-family: \"Source Code Pro\", \"Menlo\", monospace;;\n",
       "    font-size: 13px;\n",
       "    color: #555;\n",
       "    margin-left: 4px;\n",
       "    line-height: 19px;\n",
       "  }\n",
       "</style>\n",
       "<div class=\"ansiout\"></div>"
      ]
     },
     "metadata": {
      "application/vnd.databricks.v1+output": {
       "addedWidgets": {},
       "arguments": {},
       "data": "<div class=\"ansiout\"></div>",
       "datasetInfos": [],
       "metadata": {},
       "removedWidgets": [],
       "type": "html"
      }
     },
     "output_type": "display_data"
    }
   ],
   "source": [
    "d = {\"label\":[],\"message\":[]}\n",
    "df = pd.DataFrame(data=d)"
   ]
  },
  {
   "cell_type": "code",
   "execution_count": 0,
   "metadata": {
    "application/vnd.databricks.v1+cell": {
     "inputWidgets": {},
     "nuid": "3f50fa90-22b0-4a04-ab08-110e5f35bba1",
     "showTitle": false,
     "title": ""
    }
   },
   "outputs": [
    {
     "data": {
      "text/html": [
       "<style scoped>\n",
       "  .ansiout {\n",
       "    display: block;\n",
       "    unicode-bidi: embed;\n",
       "    white-space: pre-wrap;\n",
       "    word-wrap: break-word;\n",
       "    word-break: break-all;\n",
       "    font-family: \"Source Code Pro\", \"Menlo\", monospace;;\n",
       "    font-size: 13px;\n",
       "    color: #555;\n",
       "    margin-left: 4px;\n",
       "    line-height: 19px;\n",
       "  }\n",
       "</style>\n",
       "<div class=\"ansiout\"></div>"
      ]
     },
     "metadata": {
      "application/vnd.databricks.v1+output": {
       "addedWidgets": {},
       "arguments": {},
       "data": "<div class=\"ansiout\"></div>",
       "datasetInfos": [],
       "metadata": {},
       "removedWidgets": [],
       "type": "html"
      }
     },
     "output_type": "display_data"
    }
   ],
   "source": [
    "for i in clist:\n",
    "    idx = len(df[\"label\"])\n",
    "    df.loc[idx] = [data[\"position\"][i],data[\"body\"][i]]\n",
    "for i in slist:\n",
    "    idx = len(df[\"label\"])\n",
    "    df.loc[idx] = [data1[\"position\"][i],data1[\"title\"][i]]"
   ]
  },
  {
   "cell_type": "code",
   "execution_count": 0,
   "metadata": {
    "application/vnd.databricks.v1+cell": {
     "inputWidgets": {},
     "nuid": "82acb644-5f6d-408a-81e5-eaecc8b696c9",
     "showTitle": false,
     "title": ""
    }
   },
   "outputs": [
    {
     "data": {
      "text/html": [
       "<style scoped>\n",
       "  .ansiout {\n",
       "    display: block;\n",
       "    unicode-bidi: embed;\n",
       "    white-space: pre-wrap;\n",
       "    word-wrap: break-word;\n",
       "    word-break: break-all;\n",
       "    font-family: \"Source Code Pro\", \"Menlo\", monospace;;\n",
       "    font-size: 13px;\n",
       "    color: #555;\n",
       "    margin-left: 4px;\n",
       "    line-height: 19px;\n",
       "  }\n",
       "</style>\n",
       "<div class=\"ansiout\">Out[8]: </div>"
      ]
     },
     "metadata": {
      "application/vnd.databricks.v1+output": {
       "addedWidgets": {},
       "arguments": {},
       "data": "<div class=\"ansiout\">Out[8]: </div>",
       "datasetInfos": [],
       "metadata": {},
       "removedWidgets": [],
       "type": "html"
      }
     },
     "output_type": "display_data"
    },
    {
     "data": {
      "text/html": [
       "<div>\n",
       "<style scoped>\n",
       "    .dataframe tbody tr th:only-of-type {\n",
       "        vertical-align: middle;\n",
       "    }\n",
       "\n",
       "    .dataframe tbody tr th {\n",
       "        vertical-align: top;\n",
       "    }\n",
       "\n",
       "    .dataframe thead th {\n",
       "        text-align: right;\n",
       "    }\n",
       "</style>\n",
       "<table border=\"1\" class=\"dataframe\">\n",
       "  <thead>\n",
       "    <tr style=\"text-align: right;\">\n",
       "      <th></th>\n",
       "      <th>label</th>\n",
       "      <th>message</th>\n",
       "    </tr>\n",
       "  </thead>\n",
       "  <tbody>\n",
       "    <tr>\n",
       "      <th>0</th>\n",
       "      <td>1.0</td>\n",
       "      <td>the title is \"Obama announces expanded sanctio...</td>\n",
       "    </tr>\n",
       "    <tr>\n",
       "      <th>1</th>\n",
       "      <td>0.0</td>\n",
       "      <td>The thing is, it would not be a war between tw...</td>\n",
       "    </tr>\n",
       "    <tr>\n",
       "      <th>2</th>\n",
       "      <td>0.0</td>\n",
       "      <td>Time to dust off Grandpappys Bomb Shelter make...</td>\n",
       "    </tr>\n",
       "    <tr>\n",
       "      <th>3</th>\n",
       "      <td>2.0</td>\n",
       "      <td>**Article summary:** \\n\\n---\\n\\n\\n&amp;gt;* Super-...</td>\n",
       "    </tr>\n",
       "    <tr>\n",
       "      <th>4</th>\n",
       "      <td>2.0</td>\n",
       "      <td>This must be that mass extinction event /r/sci...</td>\n",
       "    </tr>\n",
       "    <tr>\n",
       "      <th>...</th>\n",
       "      <td>...</td>\n",
       "      <td>...</td>\n",
       "    </tr>\n",
       "    <tr>\n",
       "      <th>1844</th>\n",
       "      <td>0.0</td>\n",
       "      <td>Wer Ukraine unterstÃÂ¼tzen will, kann ÃÂ¼ber...</td>\n",
       "    </tr>\n",
       "    <tr>\n",
       "      <th>1845</th>\n",
       "      <td>0.0</td>\n",
       "      <td>Who are Anonymous and why are they fighting al...</td>\n",
       "    </tr>\n",
       "    <tr>\n",
       "      <th>1846</th>\n",
       "      <td>0.0</td>\n",
       "      <td>UkraineÃ¢ÂÂs air defense unit shoots down Ru...</td>\n",
       "    </tr>\n",
       "    <tr>\n",
       "      <th>1847</th>\n",
       "      <td>0.0</td>\n",
       "      <td>Witches for Ukraine!</td>\n",
       "    </tr>\n",
       "    <tr>\n",
       "      <th>1848</th>\n",
       "      <td>1.0</td>\n",
       "      <td>Russia expert: Putin's unscrupulousness undere...</td>\n",
       "    </tr>\n",
       "  </tbody>\n",
       "</table>\n",
       "<p>1849 rows × 2 columns</p>\n",
       "</div>"
      ]
     },
     "metadata": {
      "application/vnd.databricks.v1+output": {
       "addedWidgets": {},
       "arguments": {},
       "data": "<div>\n<style scoped>\n    .dataframe tbody tr th:only-of-type {\n        vertical-align: middle;\n    }\n\n    .dataframe tbody tr th {\n        vertical-align: top;\n    }\n\n    .dataframe thead th {\n        text-align: right;\n    }\n</style>\n<table border=\"1\" class=\"dataframe\">\n  <thead>\n    <tr style=\"text-align: right;\">\n      <th></th>\n      <th>label</th>\n      <th>message</th>\n    </tr>\n  </thead>\n  <tbody>\n    <tr>\n      <th>0</th>\n      <td>1.0</td>\n      <td>the title is \"Obama announces expanded sanctio...</td>\n    </tr>\n    <tr>\n      <th>1</th>\n      <td>0.0</td>\n      <td>The thing is, it would not be a war between tw...</td>\n    </tr>\n    <tr>\n      <th>2</th>\n      <td>0.0</td>\n      <td>Time to dust off Grandpappys Bomb Shelter make...</td>\n    </tr>\n    <tr>\n      <th>3</th>\n      <td>2.0</td>\n      <td>**Article summary:** \\n\\n---\\n\\n\\n&amp;gt;* Super-...</td>\n    </tr>\n    <tr>\n      <th>4</th>\n      <td>2.0</td>\n      <td>This must be that mass extinction event /r/sci...</td>\n    </tr>\n    <tr>\n      <th>...</th>\n      <td>...</td>\n      <td>...</td>\n    </tr>\n    <tr>\n      <th>1844</th>\n      <td>0.0</td>\n      <td>Wer Ukraine unterstÃÂ¼tzen will, kann ÃÂ¼ber...</td>\n    </tr>\n    <tr>\n      <th>1845</th>\n      <td>0.0</td>\n      <td>Who are Anonymous and why are they fighting al...</td>\n    </tr>\n    <tr>\n      <th>1846</th>\n      <td>0.0</td>\n      <td>UkraineÃ¢ÂÂs air defense unit shoots down Ru...</td>\n    </tr>\n    <tr>\n      <th>1847</th>\n      <td>0.0</td>\n      <td>Witches for Ukraine!</td>\n    </tr>\n    <tr>\n      <th>1848</th>\n      <td>1.0</td>\n      <td>Russia expert: Putin's unscrupulousness undere...</td>\n    </tr>\n  </tbody>\n</table>\n<p>1849 rows × 2 columns</p>\n</div>",
       "datasetInfos": [],
       "metadata": {},
       "removedWidgets": [],
       "textData": null,
       "type": "htmlSandbox"
      }
     },
     "output_type": "display_data"
    }
   ],
   "source": [
    "df\n",
    "#0:823\n",
    "#1:210->840\n",
    "#2:816"
   ]
  },
  {
   "cell_type": "code",
   "execution_count": 0,
   "metadata": {
    "application/vnd.databricks.v1+cell": {
     "inputWidgets": {},
     "nuid": "18f20b0b-b80e-4b17-a0c5-fb23a243f24b",
     "showTitle": false,
     "title": ""
    }
   },
   "outputs": [
    {
     "data": {
      "text/html": [
       "<style scoped>\n",
       "  .ansiout {\n",
       "    display: block;\n",
       "    unicode-bidi: embed;\n",
       "    white-space: pre-wrap;\n",
       "    word-wrap: break-word;\n",
       "    word-break: break-all;\n",
       "    font-family: \"Source Code Pro\", \"Menlo\", monospace;;\n",
       "    font-size: 13px;\n",
       "    color: #555;\n",
       "    margin-left: 4px;\n",
       "    line-height: 19px;\n",
       "  }\n",
       "</style>\n",
       "<div class=\"ansiout\"></div>"
      ]
     },
     "metadata": {
      "application/vnd.databricks.v1+output": {
       "addedWidgets": {},
       "arguments": {},
       "data": "<div class=\"ansiout\"></div>",
       "datasetInfos": [],
       "metadata": {},
       "removedWidgets": [],
       "type": "html"
      }
     },
     "output_type": "display_data"
    }
   ],
   "source": [
    "import random \n",
    "\n",
    "sample_l = list(range(1849))\n",
    "random.shuffle(sample_l)"
   ]
  },
  {
   "cell_type": "code",
   "execution_count": 0,
   "metadata": {
    "application/vnd.databricks.v1+cell": {
     "inputWidgets": {},
     "nuid": "9265862b-231d-4c05-8b96-5065a544b4cf",
     "showTitle": false,
     "title": ""
    }
   },
   "outputs": [
    {
     "data": {
      "text/html": [
       "<style scoped>\n",
       "  .ansiout {\n",
       "    display: block;\n",
       "    unicode-bidi: embed;\n",
       "    white-space: pre-wrap;\n",
       "    word-wrap: break-word;\n",
       "    word-break: break-all;\n",
       "    font-family: \"Source Code Pro\", \"Menlo\", monospace;;\n",
       "    font-size: 13px;\n",
       "    color: #555;\n",
       "    margin-left: 4px;\n",
       "    line-height: 19px;\n",
       "  }\n",
       "</style>\n",
       "<div class=\"ansiout\"></div>"
      ]
     },
     "metadata": {
      "application/vnd.databricks.v1+output": {
       "addedWidgets": {},
       "arguments": {},
       "data": "<div class=\"ansiout\"></div>",
       "datasetInfos": [],
       "metadata": {},
       "removedWidgets": [],
       "type": "html"
      }
     },
     "output_type": "display_data"
    }
   ],
   "source": [
    "train_l = sample_l[:1500]\n",
    "test_l = sample_l[1500:]"
   ]
  },
  {
   "cell_type": "code",
   "execution_count": 0,
   "metadata": {
    "application/vnd.databricks.v1+cell": {
     "inputWidgets": {},
     "nuid": "037f5da9-0d74-4bf7-b641-f0b56bb9dee5",
     "showTitle": false,
     "title": ""
    }
   },
   "outputs": [
    {
     "data": {
      "text/html": [
       "<style scoped>\n",
       "  .ansiout {\n",
       "    display: block;\n",
       "    unicode-bidi: embed;\n",
       "    white-space: pre-wrap;\n",
       "    word-wrap: break-word;\n",
       "    word-break: break-all;\n",
       "    font-family: \"Source Code Pro\", \"Menlo\", monospace;;\n",
       "    font-size: 13px;\n",
       "    color: #555;\n",
       "    margin-left: 4px;\n",
       "    line-height: 19px;\n",
       "  }\n",
       "</style>\n",
       "<div class=\"ansiout\"></div>"
      ]
     },
     "metadata": {
      "application/vnd.databricks.v1+output": {
       "addedWidgets": {},
       "arguments": {},
       "data": "<div class=\"ansiout\"></div>",
       "datasetInfos": [],
       "metadata": {},
       "removedWidgets": [],
       "type": "html"
      }
     },
     "output_type": "display_data"
    }
   ],
   "source": [
    "temp_l = train_l.copy()\n",
    "for i in temp_l:\n",
    "    if df[\"label\"][i]==1:\n",
    "        for _ in range(3):train_l.append(i)"
   ]
  },
  {
   "cell_type": "code",
   "execution_count": 0,
   "metadata": {
    "application/vnd.databricks.v1+cell": {
     "inputWidgets": {},
     "nuid": "c966b17f-6781-46ea-985f-c35a26fdc20e",
     "showTitle": false,
     "title": ""
    }
   },
   "outputs": [
    {
     "data": {
      "text/html": [
       "<style scoped>\n",
       "  .ansiout {\n",
       "    display: block;\n",
       "    unicode-bidi: embed;\n",
       "    white-space: pre-wrap;\n",
       "    word-wrap: break-word;\n",
       "    word-break: break-all;\n",
       "    font-family: \"Source Code Pro\", \"Menlo\", monospace;;\n",
       "    font-size: 13px;\n",
       "    color: #555;\n",
       "    margin-left: 4px;\n",
       "    line-height: 19px;\n",
       "  }\n",
       "</style>\n",
       "<div class=\"ansiout\"></div>"
      ]
     },
     "metadata": {
      "application/vnd.databricks.v1+output": {
       "addedWidgets": {},
       "arguments": {},
       "data": "<div class=\"ansiout\"></div>",
       "datasetInfos": [],
       "metadata": {},
       "removedWidgets": [],
       "type": "html"
      }
     },
     "output_type": "display_data"
    }
   ],
   "source": [
    "temp_l = test_l.copy()\n",
    "for i in temp_l:\n",
    "    if df[\"label\"][i]==1:\n",
    "        for _ in range(3):test_l.append(i)"
   ]
  },
  {
   "cell_type": "code",
   "execution_count": 0,
   "metadata": {
    "application/vnd.databricks.v1+cell": {
     "inputWidgets": {},
     "nuid": "6a074a54-537a-4544-939d-9cd2abd0d3ed",
     "showTitle": false,
     "title": ""
    }
   },
   "outputs": [
    {
     "data": {
      "text/html": [
       "<style scoped>\n",
       "  .ansiout {\n",
       "    display: block;\n",
       "    unicode-bidi: embed;\n",
       "    white-space: pre-wrap;\n",
       "    word-wrap: break-word;\n",
       "    word-break: break-all;\n",
       "    font-family: \"Source Code Pro\", \"Menlo\", monospace;;\n",
       "    font-size: 13px;\n",
       "    color: #555;\n",
       "    margin-left: 4px;\n",
       "    line-height: 19px;\n",
       "  }\n",
       "</style>\n",
       "<div class=\"ansiout\"></div>"
      ]
     },
     "metadata": {
      "application/vnd.databricks.v1+output": {
       "addedWidgets": {},
       "arguments": {},
       "data": "<div class=\"ansiout\"></div>",
       "datasetInfos": [],
       "metadata": {},
       "removedWidgets": [],
       "type": "html"
      }
     },
     "output_type": "display_data"
    }
   ],
   "source": [
    "random.shuffle(train_l)\n",
    "random.shuffle(test_l)"
   ]
  },
  {
   "cell_type": "code",
   "execution_count": 0,
   "metadata": {
    "application/vnd.databricks.v1+cell": {
     "inputWidgets": {},
     "nuid": "25b57d17-ad84-41e4-9cbe-1d433f24813f",
     "showTitle": false,
     "title": ""
    }
   },
   "outputs": [
    {
     "data": {
      "text/html": [
       "<style scoped>\n",
       "  .ansiout {\n",
       "    display: block;\n",
       "    unicode-bidi: embed;\n",
       "    white-space: pre-wrap;\n",
       "    word-wrap: break-word;\n",
       "    word-break: break-all;\n",
       "    font-family: \"Source Code Pro\", \"Menlo\", monospace;;\n",
       "    font-size: 13px;\n",
       "    color: #555;\n",
       "    margin-left: 4px;\n",
       "    line-height: 19px;\n",
       "  }\n",
       "</style>\n",
       "<div class=\"ansiout\"></div>"
      ]
     },
     "metadata": {
      "application/vnd.databricks.v1+output": {
       "addedWidgets": {},
       "arguments": {},
       "data": "<div class=\"ansiout\"></div>",
       "datasetInfos": [],
       "metadata": {},
       "removedWidgets": [],
       "type": "html"
      }
     },
     "output_type": "display_data"
    }
   ],
   "source": [
    "train =  pd.DataFrame(data=d)\n",
    "test =  pd.DataFrame(data=d)\n",
    "for i in train_l:\n",
    "    idx = len(train[\"label\"])\n",
    "    train.loc[idx] = [str(df[\"label\"][i]),df[\"message\"][i]]\n",
    "for i in test_l:\n",
    "    idx = len(test[\"label\"])\n",
    "    test.loc[idx] = [str(df[\"label\"][i]),df[\"message\"][i]]"
   ]
  },
  {
   "cell_type": "code",
   "execution_count": 0,
   "metadata": {
    "application/vnd.databricks.v1+cell": {
     "inputWidgets": {},
     "nuid": "51f1818d-8f2d-46ac-bfdd-7042a8d0f76a",
     "showTitle": false,
     "title": ""
    }
   },
   "outputs": [
    {
     "data": {
      "text/html": [
       "<style scoped>\n",
       "  .ansiout {\n",
       "    display: block;\n",
       "    unicode-bidi: embed;\n",
       "    white-space: pre-wrap;\n",
       "    word-wrap: break-word;\n",
       "    word-break: break-all;\n",
       "    font-family: \"Source Code Pro\", \"Menlo\", monospace;;\n",
       "    font-size: 13px;\n",
       "    color: #555;\n",
       "    margin-left: 4px;\n",
       "    line-height: 19px;\n",
       "  }\n",
       "</style>\n",
       "<div class=\"ansiout\"></div>"
      ]
     },
     "metadata": {
      "application/vnd.databricks.v1+output": {
       "addedWidgets": {},
       "arguments": {},
       "data": "<div class=\"ansiout\"></div>",
       "datasetInfos": [],
       "metadata": {},
       "removedWidgets": [],
       "type": "html"
      }
     },
     "output_type": "display_data"
    }
   ],
   "source": [
    "values = train.values.tolist()\n",
    "columns = train.columns.tolist()\n",
    "spark_train = spark.createDataFrame(values, columns)\n",
    "\n",
    "values = test.values.tolist()\n",
    "columns = test.columns.tolist()\n",
    "spark_test = spark.createDataFrame(values, columns)"
   ]
  },
  {
   "cell_type": "code",
   "execution_count": 0,
   "metadata": {
    "application/vnd.databricks.v1+cell": {
     "inputWidgets": {},
     "nuid": "8ae8a5b6-b336-41b6-b609-f7c400440af6",
     "showTitle": false,
     "title": ""
    }
   },
   "outputs": [
    {
     "data": {
      "text/html": [
       "<style scoped>\n",
       "  .ansiout {\n",
       "    display: block;\n",
       "    unicode-bidi: embed;\n",
       "    white-space: pre-wrap;\n",
       "    word-wrap: break-word;\n",
       "    word-break: break-all;\n",
       "    font-family: \"Source Code Pro\", \"Menlo\", monospace;;\n",
       "    font-size: 13px;\n",
       "    color: #555;\n",
       "    margin-left: 4px;\n",
       "    line-height: 19px;\n",
       "  }\n",
       "</style>\n",
       "<div class=\"ansiout\">+-----+-----+\n",
       "label|count|\n",
       "+-----+-----+\n",
       "  0.0|  683|\n",
       "  2.0|  656|\n",
       "  1.0|  644|\n",
       "+-----+-----+\n",
       "\n",
       "+-----+-----+\n",
       "label|count|\n",
       "+-----+-----+\n",
       "  1.0|  196|\n",
       "  2.0|  160|\n",
       "  0.0|  140|\n",
       "+-----+-----+\n",
       "\n",
       "</div>"
      ]
     },
     "metadata": {
      "application/vnd.databricks.v1+output": {
       "addedWidgets": {},
       "arguments": {},
       "data": "<div class=\"ansiout\">+-----+-----+\n|label|count|\n+-----+-----+\n|  0.0|  683|\n|  2.0|  656|\n|  1.0|  644|\n+-----+-----+\n\n+-----+-----+\n|label|count|\n+-----+-----+\n|  1.0|  196|\n|  2.0|  160|\n|  0.0|  140|\n+-----+-----+\n\n</div>",
       "datasetInfos": [],
       "metadata": {},
       "removedWidgets": [],
       "type": "html"
      }
     },
     "output_type": "display_data"
    }
   ],
   "source": [
    "from pyspark.sql.functions import col\n",
    "spark_train.groupBy(\"label\") \\\n",
    "    .count() \\\n",
    "    .orderBy(col(\"count\").desc()) \\\n",
    "    .show()\n",
    "\n",
    "spark_test.groupBy(\"label\") \\\n",
    "    .count() \\\n",
    "    .orderBy(col(\"count\").desc()) \\\n",
    "    .show()"
   ]
  },
  {
   "cell_type": "code",
   "execution_count": 0,
   "metadata": {
    "application/vnd.databricks.v1+cell": {
     "inputWidgets": {},
     "nuid": "a44745d5-e8ca-4453-9140-a51e6ba69ab4",
     "showTitle": false,
     "title": ""
    }
   },
   "outputs": [
    {
     "data": {
      "text/html": [
       "<style scoped>\n",
       "  .ansiout {\n",
       "    display: block;\n",
       "    unicode-bidi: embed;\n",
       "    white-space: pre-wrap;\n",
       "    word-wrap: break-word;\n",
       "    word-break: break-all;\n",
       "    font-family: \"Source Code Pro\", \"Menlo\", monospace;;\n",
       "    font-size: 13px;\n",
       "    color: #555;\n",
       "    margin-left: 4px;\n",
       "    line-height: 19px;\n",
       "  }\n",
       "</style>\n",
       "<div class=\"ansiout\">lemma_antbnc download started this may take some time.\n",
       "Approximate size to download 907.6 KB\n",
       "\r",
       "[ | ]\r",
       "[ / ]\r",
       "[ — ]\r",
       "[OK!]\n",
       "glove_100d download started this may take some time.\n",
       "Approximate size to download 145.3 MB\n",
       "\r",
       "[ | ]\r",
       "[ / ]\r",
       "[ — ]\r",
       "[ \\ ]\r",
       "[ | ]\r",
       "[ / ]\r",
       "[ — ]\r",
       "[ \\ ]\r",
       "[ | ]\r",
       "[ / ]\r",
       "[ — ]\r",
       "[ \\ ]\r",
       "[ | ]\r",
       "[ / ]\r",
       "[OK!]\n",
       "</div>"
      ]
     },
     "metadata": {
      "application/vnd.databricks.v1+output": {
       "addedWidgets": {},
       "arguments": {},
       "data": "<div class=\"ansiout\">lemma_antbnc download started this may take some time.\nApproximate size to download 907.6 KB\n\r[ | ]\r[ / ]\r[ — ]\r[OK!]\nglove_100d download started this may take some time.\nApproximate size to download 145.3 MB\n\r[ | ]\r[ / ]\r[ — ]\r[ \\ ]\r[ | ]\r[ / ]\r[ — ]\r[ \\ ]\r[ | ]\r[ / ]\r[ — ]\r[ \\ ]\r[ | ]\r[ / ]\r[OK!]\n</div>",
       "datasetInfos": [],
       "metadata": {},
       "removedWidgets": [],
       "type": "html"
      }
     },
     "output_type": "display_data"
    }
   ],
   "source": [
    "document_assembler = DocumentAssembler() \\\n",
    "    .setInputCol(\"message\")\\\n",
    "    .setOutputCol(\"document\")\n",
    "\n",
    "sentenceDetector = SentenceDetector()\\\n",
    "      .setInputCols(['document'])\\\n",
    "      .setOutputCol('sentences')\n",
    "\n",
    "tokenizer = Tokenizer()\\\n",
    "    .setInputCols([\"sentences\"])\\\n",
    "    .setOutputCol(\"token\")\n",
    "\n",
    "normalizer = Normalizer()\\\n",
    "    .setInputCols(\"token\")\\\n",
    "    .setOutputCol(\"normalized\")\n",
    "\n",
    "stopwords_cleaner = StopWordsCleaner()\\\n",
    "    .setInputCols(\"normalized\")\\\n",
    "    .setOutputCol(\"cleanTokens\")\\\n",
    "    .setCaseSensitive(False)\\\n",
    "    .setLocale(\"en_US\")\n",
    "\n",
    "lemma = LemmatizerModel.pretrained(\"lemma_antbnc\")\\\n",
    "    .setInputCols([\"cleanTokens\"])\\\n",
    "    .setOutputCol(\"lemma\")\n",
    "\n",
    "word_embeddings = WordEmbeddingsModel().pretrained()\\\n",
    "    .setInputCols([\"document\",\"lemma\"])\\\n",
    "    .setOutputCol(\"embeddings\")\\\n",
    "    .setCaseSensitive(False)\n",
    "\n",
    "embeddingsSentence = SentenceEmbeddings()\\\n",
    "    .setInputCols([\"document\",\"embeddings\"])\\\n",
    "    .setOutputCol(\"sentence_embeddings\")\\\n",
    "    .setPoolingStrategy(\"AVERAGE\")\n",
    "\n"
   ]
  },
  {
   "cell_type": "code",
   "execution_count": 0,
   "metadata": {
    "application/vnd.databricks.v1+cell": {
     "inputWidgets": {},
     "nuid": "60f747af-4669-48d2-9b54-f9108ce13fea",
     "showTitle": false,
     "title": ""
    }
   },
   "outputs": [
    {
     "data": {
      "text/html": [
       "<style scoped>\n",
       "  .ansiout {\n",
       "    display: block;\n",
       "    unicode-bidi: embed;\n",
       "    white-space: pre-wrap;\n",
       "    word-wrap: break-word;\n",
       "    word-break: break-all;\n",
       "    font-family: \"Source Code Pro\", \"Menlo\", monospace;;\n",
       "    font-size: 13px;\n",
       "    color: #555;\n",
       "    margin-left: 4px;\n",
       "    line-height: 19px;\n",
       "  }\n",
       "</style>\n",
       "<div class=\"ansiout\"></div>"
      ]
     },
     "metadata": {
      "application/vnd.databricks.v1+output": {
       "addedWidgets": {},
       "arguments": {},
       "data": "<div class=\"ansiout\"></div>",
       "datasetInfos": [],
       "metadata": {},
       "removedWidgets": [],
       "type": "html"
      }
     },
     "output_type": "display_data"
    }
   ],
   "source": [
    "classifierdl = ClassifierDLApproach()\\\n",
    "    .setInputCols([\"sentence_embeddings\"])\\\n",
    "    .setOutputCol(\"class\")\\\n",
    "    .setLabelColumn(\"label\")\\\n",
    "    .setMaxEpochs(20)\\\n",
    "    .setEnableOutputLogs(True)"
   ]
  },
  {
   "cell_type": "code",
   "execution_count": 0,
   "metadata": {
    "application/vnd.databricks.v1+cell": {
     "inputWidgets": {},
     "nuid": "48ee1117-1ab9-45fc-b365-743a0fc16708",
     "showTitle": false,
     "title": ""
    }
   },
   "outputs": [
    {
     "data": {
      "text/html": [
       "<style scoped>\n",
       "  .ansiout {\n",
       "    display: block;\n",
       "    unicode-bidi: embed;\n",
       "    white-space: pre-wrap;\n",
       "    word-wrap: break-word;\n",
       "    word-break: break-all;\n",
       "    font-family: \"Source Code Pro\", \"Menlo\", monospace;;\n",
       "    font-size: 13px;\n",
       "    color: #555;\n",
       "    margin-left: 4px;\n",
       "    line-height: 19px;\n",
       "  }\n",
       "</style>\n",
       "<div class=\"ansiout\"></div>"
      ]
     },
     "metadata": {
      "application/vnd.databricks.v1+output": {
       "addedWidgets": {},
       "arguments": {},
       "data": "<div class=\"ansiout\"></div>",
       "datasetInfos": [],
       "metadata": {},
       "removedWidgets": [],
       "type": "html"
      }
     },
     "output_type": "display_data"
    }
   ],
   "source": [
    "PRU_pipeline = Pipeline(\n",
    "    stages = [\n",
    "        document_assembler,\n",
    "        sentenceDetector,\n",
    "        tokenizer,\n",
    "        normalizer,\n",
    "        stopwords_cleaner,\n",
    "        lemma,\n",
    "        word_embeddings,\n",
    "        embeddingsSentence,\n",
    "        classifierdl\n",
    "    ]\n",
    ")"
   ]
  },
  {
   "cell_type": "code",
   "execution_count": 0,
   "metadata": {
    "application/vnd.databricks.v1+cell": {
     "inputWidgets": {},
     "nuid": "df2bbb5b-88b6-43a5-99d0-f4541b4358f3",
     "showTitle": false,
     "title": ""
    }
   },
   "outputs": [
    {
     "data": {
      "text/html": [
       "<style scoped>\n",
       "  .ansiout {\n",
       "    display: block;\n",
       "    unicode-bidi: embed;\n",
       "    white-space: pre-wrap;\n",
       "    word-wrap: break-word;\n",
       "    word-break: break-all;\n",
       "    font-family: \"Source Code Pro\", \"Menlo\", monospace;;\n",
       "    font-size: 13px;\n",
       "    color: #555;\n",
       "    margin-left: 4px;\n",
       "    line-height: 19px;\n",
       "  }\n",
       "</style>\n",
       "<div class=\"ansiout\"></div>"
      ]
     },
     "metadata": {
      "application/vnd.databricks.v1+output": {
       "addedWidgets": {},
       "arguments": {},
       "data": "<div class=\"ansiout\"></div>",
       "datasetInfos": [],
       "metadata": {},
       "removedWidgets": [],
       "type": "html"
      }
     },
     "output_type": "display_data"
    }
   ],
   "source": [
    "PRU_pipelineModel = PRU_pipeline.fit(spark_train)"
   ]
  },
  {
   "cell_type": "code",
   "execution_count": 0,
   "metadata": {
    "application/vnd.databricks.v1+cell": {
     "inputWidgets": {},
     "nuid": "3c030c9e-8a76-4102-9b13-d102189e56d5",
     "showTitle": false,
     "title": ""
    }
   },
   "outputs": [
    {
     "data": {
      "text/html": [
       "<style scoped>\n",
       "  .ansiout {\n",
       "    display: block;\n",
       "    unicode-bidi: embed;\n",
       "    white-space: pre-wrap;\n",
       "    word-wrap: break-word;\n",
       "    word-break: break-all;\n",
       "    font-family: \"Source Code Pro\", \"Menlo\", monospace;;\n",
       "    font-size: 13px;\n",
       "    color: #555;\n",
       "    margin-left: 4px;\n",
       "    line-height: 19px;\n",
       "  }\n",
       "</style>\n",
       "<div class=\"ansiout\">              precision    recall  f1-score   support\n",
       "\n",
       "         0.0       0.61      0.82      0.70       140\n",
       "         1.0       0.87      0.63      0.73       196\n",
       "         2.0       0.85      0.88      0.87       160\n",
       "\n",
       "    accuracy                           0.77       496\n",
       "   macro avg       0.78      0.78      0.77       496\n",
       "weighted avg       0.79      0.77      0.77       496\n",
       "\n",
       "0.7661290322580645\n",
       "</div>"
      ]
     },
     "metadata": {
      "application/vnd.databricks.v1+output": {
       "addedWidgets": {},
       "arguments": {},
       "data": "<div class=\"ansiout\">              precision    recall  f1-score   support\n\n         0.0       0.61      0.82      0.70       140\n         1.0       0.87      0.63      0.73       196\n         2.0       0.85      0.88      0.87       160\n\n    accuracy                           0.77       496\n   macro avg       0.78      0.78      0.77       496\nweighted avg       0.79      0.77      0.77       496\n\n0.7661290322580645\n</div>",
       "datasetInfos": [],
       "metadata": {},
       "removedWidgets": [],
       "type": "html"
      }
     },
     "output_type": "display_data"
    }
   ],
   "source": [
    "#0:ProUkraine 1:ProRussia 2: Cantsee\n",
    "from sklearn.metrics import classification_report, accuracy_score\n",
    "df = PRU_pipelineModel.transform(spark_test).select('label','message','class.result').toPandas()\n",
    "df['result'] = df['result'].apply(lambda x:x[0])\n",
    "print(classification_report(df.label,df.result))\n",
    "print(accuracy_score(df.label,df.result))"
   ]
  },
  {
   "cell_type": "code",
   "execution_count": 0,
   "metadata": {
    "application/vnd.databricks.v1+cell": {
     "inputWidgets": {},
     "nuid": "c96fc14b-938a-4401-8cc2-d56147bbc286",
     "showTitle": false,
     "title": ""
    }
   },
   "outputs": [],
   "source": [
    "'''  precision    recall  f1-score   support\n",
    "\n",
    "         0.0       0.61      0.82      0.70       140\n",
    "         1.0       0.87      0.63      0.73       196\n",
    "         2.0       0.85      0.88      0.87       160\n",
    "\n",
    "    accuracy                           0.77       496\n",
    "   macro avg       0.78      0.78      0.77       496\n",
    "weighted avg       0.79      0.77      0.77       496\n",
    "\n",
    "0.7661290322580645'''"
   ]
  },
  {
   "cell_type": "markdown",
   "metadata": {
    "application/vnd.databricks.v1+cell": {
     "inputWidgets": {},
     "nuid": "b5a179d9-de79-4c41-8aca-afa3d2347277",
     "showTitle": false,
     "title": ""
    }
   },
   "source": [
    "train all data for model"
   ]
  },
  {
   "cell_type": "code",
   "execution_count": 0,
   "metadata": {
    "application/vnd.databricks.v1+cell": {
     "inputWidgets": {},
     "nuid": "86d9b71e-0089-4ae7-963e-f9e092b48fbb",
     "showTitle": false,
     "title": ""
    }
   },
   "outputs": [
    {
     "data": {
      "text/html": [
       "<style scoped>\n",
       "  .ansiout {\n",
       "    display: block;\n",
       "    unicode-bidi: embed;\n",
       "    white-space: pre-wrap;\n",
       "    word-wrap: break-word;\n",
       "    word-break: break-all;\n",
       "    font-family: \"Source Code Pro\", \"Menlo\", monospace;;\n",
       "    font-size: 13px;\n",
       "    color: #555;\n",
       "    margin-left: 4px;\n",
       "    line-height: 19px;\n",
       "  }\n",
       "</style>"
      ]
     },
     "metadata": {
      "application/vnd.databricks.v1+output": {
       "arguments": {},
       "data": "",
       "errorSummary": "Cancelled",
       "errorTraceType": "html",
       "metadata": {},
       "type": "ipynbError"
      }
     },
     "output_type": "display_data"
    }
   ],
   "source": [
    "train = pd.concat([train,test])"
   ]
  },
  {
   "cell_type": "code",
   "execution_count": 0,
   "metadata": {
    "application/vnd.databricks.v1+cell": {
     "inputWidgets": {},
     "nuid": "9e09d460-ef79-4bef-99b6-6155d33f7727",
     "showTitle": false,
     "title": ""
    }
   },
   "outputs": [
    {
     "data": {
      "text/html": [
       "<style scoped>\n",
       "  .ansiout {\n",
       "    display: block;\n",
       "    unicode-bidi: embed;\n",
       "    white-space: pre-wrap;\n",
       "    word-wrap: break-word;\n",
       "    word-break: break-all;\n",
       "    font-family: \"Source Code Pro\", \"Menlo\", monospace;;\n",
       "    font-size: 13px;\n",
       "    color: #555;\n",
       "    margin-left: 4px;\n",
       "    line-height: 19px;\n",
       "  }\n",
       "</style>"
      ]
     },
     "metadata": {
      "application/vnd.databricks.v1+output": {
       "arguments": {},
       "data": "",
       "errorSummary": "Cancelled",
       "errorTraceType": "html",
       "metadata": {},
       "type": "ipynbError"
      }
     },
     "output_type": "display_data"
    }
   ],
   "source": [
    "values = train.values.tolist()\n",
    "columns = train.columns.tolist()\n",
    "spark_train = spark.createDataFrame(values, columns)"
   ]
  },
  {
   "cell_type": "code",
   "execution_count": 0,
   "metadata": {
    "application/vnd.databricks.v1+cell": {
     "inputWidgets": {},
     "nuid": "e73c28cd-5f97-4eb3-b4a7-7986172b6bfc",
     "showTitle": false,
     "title": ""
    }
   },
   "outputs": [
    {
     "data": {
      "text/html": [
       "<style scoped>\n",
       "  .ansiout {\n",
       "    display: block;\n",
       "    unicode-bidi: embed;\n",
       "    white-space: pre-wrap;\n",
       "    word-wrap: break-word;\n",
       "    word-break: break-all;\n",
       "    font-family: \"Source Code Pro\", \"Menlo\", monospace;;\n",
       "    font-size: 13px;\n",
       "    color: #555;\n",
       "    margin-left: 4px;\n",
       "    line-height: 19px;\n",
       "  }\n",
       "</style>"
      ]
     },
     "metadata": {
      "application/vnd.databricks.v1+output": {
       "arguments": {},
       "data": "",
       "errorSummary": "Cancelled",
       "errorTraceType": "html",
       "metadata": {},
       "type": "ipynbError"
      }
     },
     "output_type": "display_data"
    }
   ],
   "source": [
    "spark_train.groupBy(\"label\") \\\n",
    "    .count() \\\n",
    "    .orderBy(col(\"count\").desc()) \\\n",
    "    .show()"
   ]
  },
  {
   "cell_type": "code",
   "execution_count": 0,
   "metadata": {
    "application/vnd.databricks.v1+cell": {
     "inputWidgets": {},
     "nuid": "ef9a3ac4-338e-4901-a7af-675e5bc3bf63",
     "showTitle": false,
     "title": ""
    }
   },
   "outputs": [
    {
     "data": {
      "text/html": [
       "<style scoped>\n",
       "  .ansiout {\n",
       "    display: block;\n",
       "    unicode-bidi: embed;\n",
       "    white-space: pre-wrap;\n",
       "    word-wrap: break-word;\n",
       "    word-break: break-all;\n",
       "    font-family: \"Source Code Pro\", \"Menlo\", monospace;;\n",
       "    font-size: 13px;\n",
       "    color: #555;\n",
       "    margin-left: 4px;\n",
       "    line-height: 19px;\n",
       "  }\n",
       "</style>"
      ]
     },
     "metadata": {
      "application/vnd.databricks.v1+output": {
       "arguments": {},
       "data": "",
       "errorSummary": "Cancelled",
       "errorTraceType": "html",
       "metadata": {},
       "type": "ipynbError"
      }
     },
     "output_type": "display_data"
    }
   ],
   "source": [
    "PRU_pipeline = Pipeline(\n",
    "    stages = [\n",
    "        document_assembler,\n",
    "        sentenceDetector,\n",
    "        tokenizer,\n",
    "        normalizer,\n",
    "        stopwords_cleaner,\n",
    "        lemma,\n",
    "        word_embeddings,\n",
    "        embeddingsSentence,\n",
    "        classifierdl\n",
    "    ]\n",
    ")"
   ]
  },
  {
   "cell_type": "code",
   "execution_count": 0,
   "metadata": {
    "application/vnd.databricks.v1+cell": {
     "inputWidgets": {},
     "nuid": "a054973f-b20d-4c2c-b36b-d4ae79bb7734",
     "showTitle": false,
     "title": ""
    }
   },
   "outputs": [
    {
     "data": {
      "text/html": [
       "<style scoped>\n",
       "  .ansiout {\n",
       "    display: block;\n",
       "    unicode-bidi: embed;\n",
       "    white-space: pre-wrap;\n",
       "    word-wrap: break-word;\n",
       "    word-break: break-all;\n",
       "    font-family: \"Source Code Pro\", \"Menlo\", monospace;;\n",
       "    font-size: 13px;\n",
       "    color: #555;\n",
       "    margin-left: 4px;\n",
       "    line-height: 19px;\n",
       "  }\n",
       "</style>"
      ]
     },
     "metadata": {
      "application/vnd.databricks.v1+output": {
       "arguments": {},
       "data": "",
       "errorSummary": "Cancelled",
       "errorTraceType": "html",
       "metadata": {},
       "type": "ipynbError"
      }
     },
     "output_type": "display_data"
    }
   ],
   "source": [
    "PRU_pipelineModel = PRU_pipeline.fit(spark_train)"
   ]
  },
  {
   "cell_type": "code",
   "execution_count": 0,
   "metadata": {
    "application/vnd.databricks.v1+cell": {
     "inputWidgets": {},
     "nuid": "daec7153-2439-43e4-828a-a4f18076bd86",
     "showTitle": false,
     "title": ""
    }
   },
   "outputs": [
    {
     "data": {
      "text/html": [
       "<style scoped>\n",
       "  .ansiout {\n",
       "    display: block;\n",
       "    unicode-bidi: embed;\n",
       "    white-space: pre-wrap;\n",
       "    word-wrap: break-word;\n",
       "    word-break: break-all;\n",
       "    font-family: \"Source Code Pro\", \"Menlo\", monospace;;\n",
       "    font-size: 13px;\n",
       "    color: #555;\n",
       "    margin-left: 4px;\n",
       "    line-height: 19px;\n",
       "  }\n",
       "</style>"
      ]
     },
     "metadata": {
      "application/vnd.databricks.v1+output": {
       "arguments": {},
       "data": "",
       "errorSummary": "Cancelled",
       "errorTraceType": "html",
       "metadata": {},
       "type": "ipynbError"
      }
     },
     "output_type": "display_data"
    }
   ],
   "source": [
    "PRU_pipelineModel.save('/mnt/lsde/group05/PRU_3class')"
   ]
  },
  {
   "cell_type": "markdown",
   "metadata": {
    "application/vnd.databricks.v1+cell": {
     "inputWidgets": {},
     "nuid": "468c71cf-3f60-44fd-8e0c-3b12a1d8dba4",
     "showTitle": false,
     "title": ""
    }
   },
   "source": [
    "Transform all submissions and comments"
   ]
  },
  {
   "cell_type": "code",
   "execution_count": 0,
   "metadata": {
    "application/vnd.databricks.v1+cell": {
     "inputWidgets": {},
     "nuid": "2b39a2f7-4492-4d00-ba4d-f06342181216",
     "showTitle": false,
     "title": ""
    }
   },
   "outputs": [
    {
     "data": {
      "text/html": [
       "<style scoped>\n",
       "  .ansiout {\n",
       "    display: block;\n",
       "    unicode-bidi: embed;\n",
       "    white-space: pre-wrap;\n",
       "    word-wrap: break-word;\n",
       "    word-break: break-all;\n",
       "    font-family: \"Source Code Pro\", \"Menlo\", monospace;;\n",
       "    font-size: 13px;\n",
       "    color: #555;\n",
       "    margin-left: 4px;\n",
       "    line-height: 19px;\n",
       "  }\n",
       "</style>"
      ]
     },
     "metadata": {
      "application/vnd.databricks.v1+output": {
       "arguments": {},
       "data": "",
       "errorSummary": "Cancelled",
       "errorTraceType": "html",
       "metadata": {},
       "type": "ipynbError"
      }
     },
     "output_type": "display_data"
    }
   ],
   "source": [
    "PRU_pipelineModel = PipelineModel.load('/mnt/lsde/group05/PRU_3class')"
   ]
  },
  {
   "cell_type": "code",
   "execution_count": 0,
   "metadata": {
    "application/vnd.databricks.v1+cell": {
     "inputWidgets": {},
     "nuid": "820dbf06-939a-4871-882f-c8f8f52151ab",
     "showTitle": false,
     "title": ""
    }
   },
   "outputs": [
    {
     "data": {
      "text/html": [
       "<style scoped>\n",
       "  .ansiout {\n",
       "    display: block;\n",
       "    unicode-bidi: embed;\n",
       "    white-space: pre-wrap;\n",
       "    word-wrap: break-word;\n",
       "    word-break: break-all;\n",
       "    font-family: \"Source Code Pro\", \"Menlo\", monospace;;\n",
       "    font-size: 13px;\n",
       "    color: #555;\n",
       "    margin-left: 4px;\n",
       "    line-height: 19px;\n",
       "  }\n",
       "</style>"
      ]
     },
     "metadata": {
      "application/vnd.databricks.v1+output": {
       "arguments": {},
       "data": "",
       "errorSummary": "Cancelled",
       "errorTraceType": "html",
       "metadata": {},
       "type": "ipynbError"
      }
     },
     "output_type": "display_data"
    }
   ],
   "source": [
    "def handle_s(year_range = [2015, 2016, 2017], month_range = range(1, 13)):\n",
    "    for year in year_range:\n",
    "        for month in month_range:\n",
    "            month_literal = str(month)\n",
    "            data_path = \"/mnt/lsde/group05/kwfilter_top3/\" + str(year) + \"-\" + month_literal + \".parquet\"\n",
    "            print(\"start handling \"+str(year) + \"-\" + month_literal)\n",
    "            df =spark.read.load(data_path,format=\"parquet\")\n",
    "            df_pre = PRU_pipelineModel.transform(df.select(col(\"id\"),col(\"title\").alias(\"message\"),col(\"created_utc\")))\n",
    "            df_pre.select(\"id\",\"class.result\",\"created_utc\").write.mode(\"overwrite\").format(\"parquet\").save(\"/mnt/lsde/group05/\"+\"submission_position_3class/\"+\n",
    "                                                                                                            str(year)+'-'+month_literal+\".parquet\")\n",
    "            print(\"finish handling \"+str(year) + \"-\" + month_literal)"
   ]
  },
  {
   "cell_type": "code",
   "execution_count": 0,
   "metadata": {
    "application/vnd.databricks.v1+cell": {
     "inputWidgets": {},
     "nuid": "846429a3-51bf-4d0b-9959-95faa0a0a182",
     "showTitle": false,
     "title": ""
    }
   },
   "outputs": [],
   "source": []
  },
  {
   "cell_type": "code",
   "execution_count": 0,
   "metadata": {
    "application/vnd.databricks.v1+cell": {
     "inputWidgets": {},
     "nuid": "56c790ae-5567-4e55-bf0c-df5ef2348f93",
     "showTitle": false,
     "title": ""
    }
   },
   "outputs": [
    {
     "data": {
      "text/html": [
       "<style scoped>\n",
       "  .ansiout {\n",
       "    display: block;\n",
       "    unicode-bidi: embed;\n",
       "    white-space: pre-wrap;\n",
       "    word-wrap: break-word;\n",
       "    word-break: break-all;\n",
       "    font-family: \"Source Code Pro\", \"Menlo\", monospace;;\n",
       "    font-size: 13px;\n",
       "    color: #555;\n",
       "    margin-left: 4px;\n",
       "    line-height: 19px;\n",
       "  }\n",
       "</style>"
      ]
     },
     "metadata": {
      "application/vnd.databricks.v1+output": {
       "arguments": {},
       "data": "",
       "errorSummary": "Cancelled",
       "errorTraceType": "html",
       "metadata": {},
       "type": "ipynbError"
      }
     },
     "output_type": "display_data"
    }
   ],
   "source": [
    "def handle_c(year_range = [2015, 2016, 2017], month_range = range(1, 13)):\n",
    "    for year in year_range:\n",
    "        for month in month_range:\n",
    "            month_literal = str(month)\n",
    "            data_path = \"/mnt/lsde/group05/filtered_comments/\" + str(year) + \"-\" + month_literal + \".parquet\"\n",
    "            print(\"start handling \"+str(year) + \"-\" + month_literal)\n",
    "            df =spark.read.load(data_path,format=\"parquet\")\n",
    "            df_pre = PRU_pipelineModel.transform(df.select(col(\"parent_id\"),col(\"id\"),col(\"body\").alias(\"message\"),col(\"created_utc\")))\n",
    "            df_pre.select(\"parent_id\",\"id\",\"class.result\",\"created_utc\").write.mode(\"overwrite\").format(\"parquet\").save(\"/mnt/lsde/group05/\"+\n",
    "                                                                                                                        \"comment_position_3class/\"+str(year)+\n",
    "                                                                                                                        '-'+month_literal+\".parquet\")\n",
    "            print(\"finish handling \"+str(year) + \"-\" + month_literal)"
   ]
  },
  {
   "cell_type": "code",
   "execution_count": 0,
   "metadata": {
    "application/vnd.databricks.v1+cell": {
     "inputWidgets": {},
     "nuid": "9de817ee-054a-4802-bc36-8743d8fa35e0",
     "showTitle": false,
     "title": ""
    }
   },
   "outputs": [
    {
     "data": {
      "text/html": [
       "<style scoped>\n",
       "  .ansiout {\n",
       "    display: block;\n",
       "    unicode-bidi: embed;\n",
       "    white-space: pre-wrap;\n",
       "    word-wrap: break-word;\n",
       "    word-break: break-all;\n",
       "    font-family: \"Source Code Pro\", \"Menlo\", monospace;;\n",
       "    font-size: 13px;\n",
       "    color: #555;\n",
       "    margin-left: 4px;\n",
       "    line-height: 19px;\n",
       "  }\n",
       "</style>\n",
       "<div class=\"ansiout\">start handling 2016-3\n",
       "finish handling 2016-3\n",
       "</div>"
      ]
     },
     "metadata": {
      "application/vnd.databricks.v1+output": {
       "addedWidgets": {},
       "arguments": {},
       "data": "<div class=\"ansiout\">start handling 2016-3\nfinish handling 2016-3\n</div>",
       "datasetInfos": [],
       "metadata": {},
       "removedWidgets": [],
       "type": "html"
      }
     },
     "output_type": "display_data"
    }
   ],
   "source": [
    "handle_c([2016],[3])"
   ]
  },
  {
   "cell_type": "code",
   "execution_count": 0,
   "metadata": {
    "application/vnd.databricks.v1+cell": {
     "inputWidgets": {},
     "nuid": "8c21a5f1-6081-4c18-aa90-1be5aa857a9f",
     "showTitle": false,
     "title": ""
    }
   },
   "outputs": [
    {
     "data": {
      "text/html": [
       "<style scoped>\n",
       "  .ansiout {\n",
       "    display: block;\n",
       "    unicode-bidi: embed;\n",
       "    white-space: pre-wrap;\n",
       "    word-wrap: break-word;\n",
       "    word-break: break-all;\n",
       "    font-family: \"Source Code Pro\", \"Menlo\", monospace;;\n",
       "    font-size: 13px;\n",
       "    color: #555;\n",
       "    margin-left: 4px;\n",
       "    line-height: 19px;\n",
       "  }\n",
       "</style>"
      ]
     },
     "metadata": {
      "application/vnd.databricks.v1+output": {
       "arguments": {},
       "data": "",
       "errorSummary": "Cancelled",
       "errorTraceType": "html",
       "metadata": {},
       "type": "ipynbError"
      }
     },
     "output_type": "display_data"
    }
   ],
   "source": [
    "handle_c([2014],range(2,13))"
   ]
  },
  {
   "cell_type": "code",
   "execution_count": 0,
   "metadata": {
    "application/vnd.databricks.v1+cell": {
     "inputWidgets": {},
     "nuid": "b4870b9d-c08b-4b16-930b-642ea3882083",
     "showTitle": false,
     "title": ""
    }
   },
   "outputs": [
    {
     "data": {
      "text/html": [
       "<style scoped>\n",
       "  .ansiout {\n",
       "    display: block;\n",
       "    unicode-bidi: embed;\n",
       "    white-space: pre-wrap;\n",
       "    word-wrap: break-word;\n",
       "    word-break: break-all;\n",
       "    font-family: \"Source Code Pro\", \"Menlo\", monospace;;\n",
       "    font-size: 13px;\n",
       "    color: #555;\n",
       "    margin-left: 4px;\n",
       "    line-height: 19px;\n",
       "  }\n",
       "</style>\n",
       "<div class=\"ansiout\">start handling 2014-2\n",
       "finish handling 2014-2\n",
       "start handling 2014-3\n",
       "finish handling 2014-3\n",
       "start handling 2014-4\n",
       "finish handling 2014-4\n",
       "start handling 2014-5\n",
       "finish handling 2014-5\n",
       "start handling 2014-6\n",
       "finish handling 2014-6\n",
       "start handling 2014-7\n",
       "finish handling 2014-7\n",
       "start handling 2014-8\n",
       "finish handling 2014-8\n",
       "start handling 2014-9\n",
       "finish handling 2014-9\n",
       "start handling 2014-10\n",
       "finish handling 2014-10\n",
       "start handling 2014-11\n",
       "finish handling 2014-11\n",
       "start handling 2014-12\n",
       "finish handling 2014-12\n",
       "</div>"
      ]
     },
     "metadata": {
      "application/vnd.databricks.v1+output": {
       "addedWidgets": {},
       "arguments": {},
       "data": "<div class=\"ansiout\">start handling 2014-2\nfinish handling 2014-2\nstart handling 2014-3\nfinish handling 2014-3\nstart handling 2014-4\nfinish handling 2014-4\nstart handling 2014-5\nfinish handling 2014-5\nstart handling 2014-6\nfinish handling 2014-6\nstart handling 2014-7\nfinish handling 2014-7\nstart handling 2014-8\nfinish handling 2014-8\nstart handling 2014-9\nfinish handling 2014-9\nstart handling 2014-10\nfinish handling 2014-10\nstart handling 2014-11\nfinish handling 2014-11\nstart handling 2014-12\nfinish handling 2014-12\n</div>",
       "datasetInfos": [],
       "metadata": {},
       "removedWidgets": [],
       "type": "html"
      }
     },
     "output_type": "display_data"
    }
   ],
   "source": [
    "handle_s([2014],range(2,13))"
   ]
  },
  {
   "cell_type": "code",
   "execution_count": 0,
   "metadata": {
    "application/vnd.databricks.v1+cell": {
     "inputWidgets": {},
     "nuid": "23a63005-0287-4564-82c9-ad5fbda28dcb",
     "showTitle": false,
     "title": ""
    }
   },
   "outputs": [
    {
     "data": {
      "text/html": [
       "<style scoped>\n",
       "  .ansiout {\n",
       "    display: block;\n",
       "    unicode-bidi: embed;\n",
       "    white-space: pre-wrap;\n",
       "    word-wrap: break-word;\n",
       "    word-break: break-all;\n",
       "    font-family: \"Source Code Pro\", \"Menlo\", monospace;;\n",
       "    font-size: 13px;\n",
       "    color: #555;\n",
       "    margin-left: 4px;\n",
       "    line-height: 19px;\n",
       "  }\n",
       "</style>\n",
       "<div class=\"ansiout\">start handling 2015-1\n",
       "finish handling 2015-1\n",
       "start handling 2015-2\n",
       "finish handling 2015-2\n",
       "start handling 2015-3\n",
       "finish handling 2015-3\n",
       "start handling 2015-4\n",
       "finish handling 2015-4\n",
       "start handling 2015-5\n",
       "finish handling 2015-5\n",
       "start handling 2015-6\n",
       "finish handling 2015-6\n",
       "start handling 2015-7\n",
       "finish handling 2015-7\n",
       "start handling 2015-8\n",
       "finish handling 2015-8\n",
       "start handling 2015-9\n",
       "finish handling 2015-9\n",
       "start handling 2015-10\n",
       "finish handling 2015-10\n",
       "start handling 2015-11\n",
       "finish handling 2015-11\n",
       "start handling 2015-12\n",
       "finish handling 2015-12\n",
       "start handling 2016-1\n",
       "finish handling 2016-1\n",
       "start handling 2016-2\n",
       "finish handling 2016-2\n",
       "start handling 2016-3\n",
       "finish handling 2016-3\n",
       "start handling 2016-4\n",
       "finish handling 2016-4\n",
       "start handling 2016-5\n",
       "finish handling 2016-5\n",
       "start handling 2016-6\n",
       "finish handling 2016-6\n",
       "start handling 2016-7\n",
       "finish handling 2016-7\n",
       "start handling 2016-8\n",
       "finish handling 2016-8\n",
       "start handling 2016-9\n",
       "finish handling 2016-9\n",
       "start handling 2016-10\n",
       "finish handling 2016-10\n",
       "start handling 2016-11\n",
       "finish handling 2016-11\n",
       "start handling 2016-12\n",
       "finish handling 2016-12\n",
       "start handling 2017-1\n",
       "finish handling 2017-1\n",
       "start handling 2017-2\n",
       "finish handling 2017-2\n",
       "start handling 2017-3\n",
       "finish handling 2017-3\n",
       "start handling 2017-4\n",
       "finish handling 2017-4\n",
       "start handling 2017-5\n",
       "finish handling 2017-5\n",
       "start handling 2017-6\n",
       "finish handling 2017-6\n",
       "start handling 2017-7\n",
       "finish handling 2017-7\n",
       "start handling 2017-8\n",
       "finish handling 2017-8\n",
       "start handling 2017-9\n",
       "finish handling 2017-9\n",
       "start handling 2017-10\n",
       "finish handling 2017-10\n",
       "start handling 2017-11\n",
       "finish handling 2017-11\n",
       "start handling 2017-12\n",
       "finish handling 2017-12\n",
       "start handling 2018-1\n",
       "finish handling 2018-1\n",
       "start handling 2018-2\n",
       "finish handling 2018-2\n",
       "start handling 2018-3\n",
       "finish handling 2018-3\n",
       "start handling 2018-4\n",
       "finish handling 2018-4\n",
       "start handling 2018-5\n",
       "finish handling 2018-5\n",
       "start handling 2018-6\n",
       "finish handling 2018-6\n",
       "start handling 2018-7\n",
       "finish handling 2018-7\n",
       "start handling 2018-8\n",
       "finish handling 2018-8\n",
       "start handling 2018-9\n",
       "finish handling 2018-9\n",
       "start handling 2018-10\n",
       "finish handling 2018-10\n",
       "start handling 2018-11\n",
       "finish handling 2018-11\n",
       "start handling 2018-12\n",
       "finish handling 2018-12\n",
       "start handling 2019-1\n",
       "finish handling 2019-1\n",
       "start handling 2019-2\n",
       "finish handling 2019-2\n",
       "start handling 2019-3\n",
       "finish handling 2019-3\n",
       "start handling 2019-4\n",
       "finish handling 2019-4\n",
       "start handling 2019-5\n",
       "finish handling 2019-5\n",
       "start handling 2019-6\n",
       "finish handling 2019-6\n",
       "start handling 2019-7\n",
       "finish handling 2019-7\n",
       "start handling 2019-8\n",
       "finish handling 2019-8\n",
       "start handling 2019-9\n",
       "finish handling 2019-9\n",
       "start handling 2019-10\n",
       "finish handling 2019-10\n",
       "start handling 2019-11\n",
       "finish handling 2019-11\n",
       "start handling 2019-12\n",
       "finish handling 2019-12\n",
       "start handling 2020-1\n",
       "finish handling 2020-1\n",
       "start handling 2020-2\n",
       "finish handling 2020-2\n",
       "start handling 2020-3\n",
       "finish handling 2020-3\n",
       "start handling 2020-4\n",
       "finish handling 2020-4\n",
       "start handling 2020-5\n",
       "finish handling 2020-5\n",
       "start handling 2020-6\n",
       "finish handling 2020-6\n",
       "start handling 2020-7\n",
       "finish handling 2020-7\n",
       "start handling 2020-8\n",
       "finish handling 2020-8\n",
       "start handling 2020-9\n",
       "finish handling 2020-9\n",
       "start handling 2020-10\n",
       "finish handling 2020-10\n",
       "start handling 2020-11\n",
       "finish handling 2020-11\n",
       "start handling 2020-12\n",
       "finish handling 2020-12\n",
       "start handling 2021-1\n",
       "finish handling 2021-1\n",
       "start handling 2021-2\n",
       "finish handling 2021-2\n",
       "start handling 2021-3\n",
       "finish handling 2021-3\n",
       "start handling 2021-4\n",
       "finish handling 2021-4\n",
       "start handling 2021-5\n",
       "finish handling 2021-5\n",
       "start handling 2021-6\n",
       "finish handling 2021-6\n",
       "start handling 2021-7\n",
       "finish handling 2021-7\n",
       "start handling 2021-8\n",
       "finish handling 2021-8\n",
       "start handling 2021-9\n",
       "finish handling 2021-9\n",
       "start handling 2021-10\n",
       "finish handling 2021-10\n",
       "start handling 2021-11\n",
       "finish handling 2021-11\n",
       "start handling 2021-12\n",
       "finish handling 2021-12\n",
       "</div>"
      ]
     },
     "metadata": {
      "application/vnd.databricks.v1+output": {
       "addedWidgets": {},
       "arguments": {},
       "data": "<div class=\"ansiout\">start handling 2015-1\nfinish handling 2015-1\nstart handling 2015-2\nfinish handling 2015-2\nstart handling 2015-3\nfinish handling 2015-3\nstart handling 2015-4\nfinish handling 2015-4\nstart handling 2015-5\nfinish handling 2015-5\nstart handling 2015-6\nfinish handling 2015-6\nstart handling 2015-7\nfinish handling 2015-7\nstart handling 2015-8\nfinish handling 2015-8\nstart handling 2015-9\nfinish handling 2015-9\nstart handling 2015-10\nfinish handling 2015-10\nstart handling 2015-11\nfinish handling 2015-11\nstart handling 2015-12\nfinish handling 2015-12\nstart handling 2016-1\nfinish handling 2016-1\nstart handling 2016-2\nfinish handling 2016-2\nstart handling 2016-3\nfinish handling 2016-3\nstart handling 2016-4\nfinish handling 2016-4\nstart handling 2016-5\nfinish handling 2016-5\nstart handling 2016-6\nfinish handling 2016-6\nstart handling 2016-7\nfinish handling 2016-7\nstart handling 2016-8\nfinish handling 2016-8\nstart handling 2016-9\nfinish handling 2016-9\nstart handling 2016-10\nfinish handling 2016-10\nstart handling 2016-11\nfinish handling 2016-11\nstart handling 2016-12\nfinish handling 2016-12\nstart handling 2017-1\nfinish handling 2017-1\nstart handling 2017-2\nfinish handling 2017-2\nstart handling 2017-3\nfinish handling 2017-3\nstart handling 2017-4\nfinish handling 2017-4\nstart handling 2017-5\nfinish handling 2017-5\nstart handling 2017-6\nfinish handling 2017-6\nstart handling 2017-7\nfinish handling 2017-7\nstart handling 2017-8\nfinish handling 2017-8\nstart handling 2017-9\nfinish handling 2017-9\nstart handling 2017-10\nfinish handling 2017-10\nstart handling 2017-11\nfinish handling 2017-11\nstart handling 2017-12\nfinish handling 2017-12\nstart handling 2018-1\nfinish handling 2018-1\nstart handling 2018-2\nfinish handling 2018-2\nstart handling 2018-3\nfinish handling 2018-3\nstart handling 2018-4\nfinish handling 2018-4\nstart handling 2018-5\nfinish handling 2018-5\nstart handling 2018-6\nfinish handling 2018-6\nstart handling 2018-7\nfinish handling 2018-7\nstart handling 2018-8\nfinish handling 2018-8\nstart handling 2018-9\nfinish handling 2018-9\nstart handling 2018-10\nfinish handling 2018-10\nstart handling 2018-11\nfinish handling 2018-11\nstart handling 2018-12\nfinish handling 2018-12\nstart handling 2019-1\nfinish handling 2019-1\nstart handling 2019-2\nfinish handling 2019-2\nstart handling 2019-3\nfinish handling 2019-3\nstart handling 2019-4\nfinish handling 2019-4\nstart handling 2019-5\nfinish handling 2019-5\nstart handling 2019-6\nfinish handling 2019-6\nstart handling 2019-7\nfinish handling 2019-7\nstart handling 2019-8\nfinish handling 2019-8\nstart handling 2019-9\nfinish handling 2019-9\nstart handling 2019-10\nfinish handling 2019-10\nstart handling 2019-11\nfinish handling 2019-11\nstart handling 2019-12\nfinish handling 2019-12\nstart handling 2020-1\nfinish handling 2020-1\nstart handling 2020-2\nfinish handling 2020-2\nstart handling 2020-3\nfinish handling 2020-3\nstart handling 2020-4\nfinish handling 2020-4\nstart handling 2020-5\nfinish handling 2020-5\nstart handling 2020-6\nfinish handling 2020-6\nstart handling 2020-7\nfinish handling 2020-7\nstart handling 2020-8\nfinish handling 2020-8\nstart handling 2020-9\nfinish handling 2020-9\nstart handling 2020-10\nfinish handling 2020-10\nstart handling 2020-11\nfinish handling 2020-11\nstart handling 2020-12\nfinish handling 2020-12\nstart handling 2021-1\nfinish handling 2021-1\nstart handling 2021-2\nfinish handling 2021-2\nstart handling 2021-3\nfinish handling 2021-3\nstart handling 2021-4\nfinish handling 2021-4\nstart handling 2021-5\nfinish handling 2021-5\nstart handling 2021-6\nfinish handling 2021-6\nstart handling 2021-7\nfinish handling 2021-7\nstart handling 2021-8\nfinish handling 2021-8\nstart handling 2021-9\nfinish handling 2021-9\nstart handling 2021-10\nfinish handling 2021-10\nstart handling 2021-11\nfinish handling 2021-11\nstart handling 2021-12\nfinish handling 2021-12\n</div>",
       "datasetInfos": [],
       "metadata": {},
       "removedWidgets": [],
       "type": "html"
      }
     },
     "output_type": "display_data"
    }
   ],
   "source": [
    "handle_c(range(2015,2022),range(1,13))\n"
   ]
  },
  {
   "cell_type": "code",
   "execution_count": 0,
   "metadata": {
    "application/vnd.databricks.v1+cell": {
     "inputWidgets": {},
     "nuid": "da8ae147-e946-4db4-9e35-7c881a15aa64",
     "showTitle": false,
     "title": ""
    }
   },
   "outputs": [
    {
     "data": {
      "text/html": [
       "<style scoped>\n",
       "  .ansiout {\n",
       "    display: block;\n",
       "    unicode-bidi: embed;\n",
       "    white-space: pre-wrap;\n",
       "    word-wrap: break-word;\n",
       "    word-break: break-all;\n",
       "    font-family: \"Source Code Pro\", \"Menlo\", monospace;;\n",
       "    font-size: 13px;\n",
       "    color: #555;\n",
       "    margin-left: 4px;\n",
       "    line-height: 19px;\n",
       "  }\n",
       "</style>\n",
       "<div class=\"ansiout\">start handling 2015-1\n",
       "finish handling 2015-1\n",
       "start handling 2015-2\n",
       "finish handling 2015-2\n",
       "start handling 2015-3\n",
       "finish handling 2015-3\n",
       "start handling 2015-4\n",
       "finish handling 2015-4\n",
       "start handling 2015-5\n",
       "finish handling 2015-5\n",
       "start handling 2015-6\n",
       "finish handling 2015-6\n",
       "start handling 2015-7\n",
       "finish handling 2015-7\n",
       "start handling 2015-8\n",
       "finish handling 2015-8\n",
       "start handling 2015-9\n",
       "finish handling 2015-9\n",
       "start handling 2015-10\n",
       "finish handling 2015-10\n",
       "start handling 2015-11\n",
       "finish handling 2015-11\n",
       "start handling 2015-12\n",
       "finish handling 2015-12\n",
       "start handling 2016-1\n",
       "finish handling 2016-1\n",
       "start handling 2016-2\n",
       "finish handling 2016-2\n",
       "start handling 2016-3\n",
       "finish handling 2016-3\n",
       "start handling 2016-4\n",
       "finish handling 2016-4\n",
       "start handling 2016-5\n",
       "finish handling 2016-5\n",
       "start handling 2016-6\n",
       "finish handling 2016-6\n",
       "start handling 2016-7\n",
       "finish handling 2016-7\n",
       "start handling 2016-8\n",
       "finish handling 2016-8\n",
       "start handling 2016-9\n",
       "finish handling 2016-9\n",
       "start handling 2016-10\n",
       "finish handling 2016-10\n",
       "start handling 2016-11\n",
       "finish handling 2016-11\n",
       "start handling 2016-12\n",
       "finish handling 2016-12\n",
       "start handling 2017-1\n",
       "finish handling 2017-1\n",
       "start handling 2017-2\n",
       "finish handling 2017-2\n",
       "start handling 2017-3\n",
       "finish handling 2017-3\n",
       "start handling 2017-4\n",
       "finish handling 2017-4\n",
       "start handling 2017-5\n",
       "finish handling 2017-5\n",
       "start handling 2017-6\n",
       "finish handling 2017-6\n",
       "start handling 2017-7\n",
       "finish handling 2017-7\n",
       "start handling 2017-8\n",
       "finish handling 2017-8\n",
       "start handling 2017-9\n",
       "finish handling 2017-9\n",
       "start handling 2017-10\n",
       "finish handling 2017-10\n",
       "start handling 2017-11\n",
       "finish handling 2017-11\n",
       "start handling 2017-12\n",
       "finish handling 2017-12\n",
       "start handling 2018-1\n",
       "finish handling 2018-1\n",
       "start handling 2018-2\n",
       "finish handling 2018-2\n",
       "start handling 2018-3\n",
       "finish handling 2018-3\n",
       "start handling 2018-4\n",
       "finish handling 2018-4\n",
       "start handling 2018-5\n",
       "finish handling 2018-5\n",
       "start handling 2018-6\n",
       "finish handling 2018-6\n",
       "start handling 2018-7\n",
       "finish handling 2018-7\n",
       "start handling 2018-8\n",
       "finish handling 2018-8\n",
       "start handling 2018-9\n",
       "finish handling 2018-9\n",
       "start handling 2018-10\n",
       "finish handling 2018-10\n",
       "start handling 2018-11\n",
       "finish handling 2018-11\n",
       "start handling 2018-12\n",
       "finish handling 2018-12\n",
       "start handling 2019-1\n",
       "finish handling 2019-1\n",
       "start handling 2019-2\n",
       "finish handling 2019-2\n",
       "start handling 2019-3\n",
       "finish handling 2019-3\n",
       "start handling 2019-4\n",
       "finish handling 2019-4\n",
       "start handling 2019-5\n",
       "finish handling 2019-5\n",
       "start handling 2019-6\n",
       "finish handling 2019-6\n",
       "start handling 2019-7\n",
       "finish handling 2019-7\n",
       "start handling 2019-8\n",
       "finish handling 2019-8\n",
       "start handling 2019-9\n",
       "finish handling 2019-9\n",
       "start handling 2019-10\n",
       "finish handling 2019-10\n",
       "start handling 2019-11\n",
       "finish handling 2019-11\n",
       "start handling 2019-12\n",
       "finish handling 2019-12\n",
       "start handling 2020-1\n",
       "finish handling 2020-1\n",
       "start handling 2020-2\n",
       "finish handling 2020-2\n",
       "start handling 2020-3\n",
       "finish handling 2020-3\n",
       "start handling 2020-4\n",
       "finish handling 2020-4\n",
       "start handling 2020-5\n",
       "finish handling 2020-5\n",
       "start handling 2020-6\n",
       "finish handling 2020-6\n",
       "start handling 2020-7\n",
       "finish handling 2020-7\n",
       "start handling 2020-8\n",
       "finish handling 2020-8\n",
       "start handling 2020-9\n",
       "finish handling 2020-9\n",
       "start handling 2020-10\n",
       "finish handling 2020-10\n",
       "start handling 2020-11\n",
       "finish handling 2020-11\n",
       "start handling 2020-12\n",
       "finish handling 2020-12\n",
       "start handling 2021-1\n",
       "finish handling 2021-1\n",
       "start handling 2021-2\n",
       "finish handling 2021-2\n",
       "start handling 2021-3\n",
       "finish handling 2021-3\n",
       "start handling 2021-4\n",
       "finish handling 2021-4\n",
       "start handling 2021-5\n",
       "finish handling 2021-5\n",
       "start handling 2021-6\n",
       "finish handling 2021-6\n",
       "start handling 2021-7\n",
       "finish handling 2021-7\n",
       "start handling 2021-8\n",
       "finish handling 2021-8\n",
       "start handling 2021-9\n",
       "finish handling 2021-9\n",
       "start handling 2021-10\n",
       "finish handling 2021-10\n",
       "start handling 2021-11\n",
       "finish handling 2021-11\n",
       "start handling 2021-12\n",
       "finish handling 2021-12\n",
       "</div>"
      ]
     },
     "metadata": {
      "application/vnd.databricks.v1+output": {
       "addedWidgets": {},
       "arguments": {},
       "data": "<div class=\"ansiout\">start handling 2015-1\nfinish handling 2015-1\nstart handling 2015-2\nfinish handling 2015-2\nstart handling 2015-3\nfinish handling 2015-3\nstart handling 2015-4\nfinish handling 2015-4\nstart handling 2015-5\nfinish handling 2015-5\nstart handling 2015-6\nfinish handling 2015-6\nstart handling 2015-7\nfinish handling 2015-7\nstart handling 2015-8\nfinish handling 2015-8\nstart handling 2015-9\nfinish handling 2015-9\nstart handling 2015-10\nfinish handling 2015-10\nstart handling 2015-11\nfinish handling 2015-11\nstart handling 2015-12\nfinish handling 2015-12\nstart handling 2016-1\nfinish handling 2016-1\nstart handling 2016-2\nfinish handling 2016-2\nstart handling 2016-3\nfinish handling 2016-3\nstart handling 2016-4\nfinish handling 2016-4\nstart handling 2016-5\nfinish handling 2016-5\nstart handling 2016-6\nfinish handling 2016-6\nstart handling 2016-7\nfinish handling 2016-7\nstart handling 2016-8\nfinish handling 2016-8\nstart handling 2016-9\nfinish handling 2016-9\nstart handling 2016-10\nfinish handling 2016-10\nstart handling 2016-11\nfinish handling 2016-11\nstart handling 2016-12\nfinish handling 2016-12\nstart handling 2017-1\nfinish handling 2017-1\nstart handling 2017-2\nfinish handling 2017-2\nstart handling 2017-3\nfinish handling 2017-3\nstart handling 2017-4\nfinish handling 2017-4\nstart handling 2017-5\nfinish handling 2017-5\nstart handling 2017-6\nfinish handling 2017-6\nstart handling 2017-7\nfinish handling 2017-7\nstart handling 2017-8\nfinish handling 2017-8\nstart handling 2017-9\nfinish handling 2017-9\nstart handling 2017-10\nfinish handling 2017-10\nstart handling 2017-11\nfinish handling 2017-11\nstart handling 2017-12\nfinish handling 2017-12\nstart handling 2018-1\nfinish handling 2018-1\nstart handling 2018-2\nfinish handling 2018-2\nstart handling 2018-3\nfinish handling 2018-3\nstart handling 2018-4\nfinish handling 2018-4\nstart handling 2018-5\nfinish handling 2018-5\nstart handling 2018-6\nfinish handling 2018-6\nstart handling 2018-7\nfinish handling 2018-7\nstart handling 2018-8\nfinish handling 2018-8\nstart handling 2018-9\nfinish handling 2018-9\nstart handling 2018-10\nfinish handling 2018-10\nstart handling 2018-11\nfinish handling 2018-11\nstart handling 2018-12\nfinish handling 2018-12\nstart handling 2019-1\nfinish handling 2019-1\nstart handling 2019-2\nfinish handling 2019-2\nstart handling 2019-3\nfinish handling 2019-3\nstart handling 2019-4\nfinish handling 2019-4\nstart handling 2019-5\nfinish handling 2019-5\nstart handling 2019-6\nfinish handling 2019-6\nstart handling 2019-7\nfinish handling 2019-7\nstart handling 2019-8\nfinish handling 2019-8\nstart handling 2019-9\nfinish handling 2019-9\nstart handling 2019-10\nfinish handling 2019-10\nstart handling 2019-11\nfinish handling 2019-11\nstart handling 2019-12\nfinish handling 2019-12\nstart handling 2020-1\nfinish handling 2020-1\nstart handling 2020-2\nfinish handling 2020-2\nstart handling 2020-3\nfinish handling 2020-3\nstart handling 2020-4\nfinish handling 2020-4\nstart handling 2020-5\nfinish handling 2020-5\nstart handling 2020-6\nfinish handling 2020-6\nstart handling 2020-7\nfinish handling 2020-7\nstart handling 2020-8\nfinish handling 2020-8\nstart handling 2020-9\nfinish handling 2020-9\nstart handling 2020-10\nfinish handling 2020-10\nstart handling 2020-11\nfinish handling 2020-11\nstart handling 2020-12\nfinish handling 2020-12\nstart handling 2021-1\nfinish handling 2021-1\nstart handling 2021-2\nfinish handling 2021-2\nstart handling 2021-3\nfinish handling 2021-3\nstart handling 2021-4\nfinish handling 2021-4\nstart handling 2021-5\nfinish handling 2021-5\nstart handling 2021-6\nfinish handling 2021-6\nstart handling 2021-7\nfinish handling 2021-7\nstart handling 2021-8\nfinish handling 2021-8\nstart handling 2021-9\nfinish handling 2021-9\nstart handling 2021-10\nfinish handling 2021-10\nstart handling 2021-11\nfinish handling 2021-11\nstart handling 2021-12\nfinish handling 2021-12\n</div>",
       "datasetInfos": [],
       "metadata": {},
       "removedWidgets": [],
       "type": "html"
      }
     },
     "output_type": "display_data"
    }
   ],
   "source": [
    "handle_s(range(2015,2022),range(1,13))"
   ]
  },
  {
   "cell_type": "code",
   "execution_count": 0,
   "metadata": {
    "application/vnd.databricks.v1+cell": {
     "inputWidgets": {},
     "nuid": "730700ab-ad15-4a72-8b53-ff7d0f2791f8",
     "showTitle": false,
     "title": ""
    }
   },
   "outputs": [
    {
     "data": {
      "text/html": [
       "<style scoped>\n",
       "  .ansiout {\n",
       "    display: block;\n",
       "    unicode-bidi: embed;\n",
       "    white-space: pre-wrap;\n",
       "    word-wrap: break-word;\n",
       "    word-break: break-all;\n",
       "    font-family: \"Source Code Pro\", \"Menlo\", monospace;;\n",
       "    font-size: 13px;\n",
       "    color: #555;\n",
       "    margin-left: 4px;\n",
       "    line-height: 19px;\n",
       "  }\n",
       "</style>\n",
       "<div class=\"ansiout\">start handling 2022-1\n",
       "finish handling 2022-1\n",
       "start handling 2022-2\n",
       "finish handling 2022-2\n",
       "start handling 2022-3\n",
       "finish handling 2022-3\n",
       "start handling 2022-4\n",
       "finish handling 2022-4\n",
       "start handling 2022-5\n",
       "finish handling 2022-5\n",
       "start handling 2022-6\n",
       "finish handling 2022-6\n",
       "start handling 2022-7\n",
       "finish handling 2022-7\n",
       "start handling 2022-8\n",
       "finish handling 2022-8\n",
       "</div>"
      ]
     },
     "metadata": {
      "application/vnd.databricks.v1+output": {
       "addedWidgets": {},
       "arguments": {},
       "data": "<div class=\"ansiout\">start handling 2022-1\nfinish handling 2022-1\nstart handling 2022-2\nfinish handling 2022-2\nstart handling 2022-3\nfinish handling 2022-3\nstart handling 2022-4\nfinish handling 2022-4\nstart handling 2022-5\nfinish handling 2022-5\nstart handling 2022-6\nfinish handling 2022-6\nstart handling 2022-7\nfinish handling 2022-7\nstart handling 2022-8\nfinish handling 2022-8\n</div>",
       "datasetInfos": [],
       "metadata": {},
       "removedWidgets": [],
       "type": "html"
      }
     },
     "output_type": "display_data"
    }
   ],
   "source": [
    "handle_c([2022],range(1,9))\n"
   ]
  },
  {
   "cell_type": "code",
   "execution_count": 0,
   "metadata": {
    "application/vnd.databricks.v1+cell": {
     "inputWidgets": {},
     "nuid": "a41d8962-0382-430a-a756-f1c999026cf8",
     "showTitle": false,
     "title": ""
    }
   },
   "outputs": [
    {
     "data": {
      "text/html": [
       "<style scoped>\n",
       "  .ansiout {\n",
       "    display: block;\n",
       "    unicode-bidi: embed;\n",
       "    white-space: pre-wrap;\n",
       "    word-wrap: break-word;\n",
       "    word-break: break-all;\n",
       "    font-family: \"Source Code Pro\", \"Menlo\", monospace;;\n",
       "    font-size: 13px;\n",
       "    color: #555;\n",
       "    margin-left: 4px;\n",
       "    line-height: 19px;\n",
       "  }\n",
       "</style>\n",
       "<div class=\"ansiout\">start handling 2022-1\n",
       "finish handling 2022-1\n",
       "start handling 2022-2\n",
       "finish handling 2022-2\n",
       "start handling 2022-3\n",
       "finish handling 2022-3\n",
       "start handling 2022-4\n",
       "finish handling 2022-4\n",
       "start handling 2022-5\n",
       "finish handling 2022-5\n",
       "start handling 2022-6\n",
       "finish handling 2022-6\n",
       "start handling 2022-7\n",
       "finish handling 2022-7\n",
       "start handling 2022-8\n",
       "finish handling 2022-8\n",
       "</div>"
      ]
     },
     "metadata": {
      "application/vnd.databricks.v1+output": {
       "addedWidgets": {},
       "arguments": {},
       "data": "<div class=\"ansiout\">start handling 2022-1\nfinish handling 2022-1\nstart handling 2022-2\nfinish handling 2022-2\nstart handling 2022-3\nfinish handling 2022-3\nstart handling 2022-4\nfinish handling 2022-4\nstart handling 2022-5\nfinish handling 2022-5\nstart handling 2022-6\nfinish handling 2022-6\nstart handling 2022-7\nfinish handling 2022-7\nstart handling 2022-8\nfinish handling 2022-8\n</div>",
       "datasetInfos": [],
       "metadata": {},
       "removedWidgets": [],
       "type": "html"
      }
     },
     "output_type": "display_data"
    }
   ],
   "source": [
    "handle_s([2022],range(1,9))"
   ]
  },
  {
   "cell_type": "code",
   "execution_count": 0,
   "metadata": {
    "application/vnd.databricks.v1+cell": {
     "inputWidgets": {},
     "nuid": "b75ec485-36e8-4831-8676-46443f8d4180",
     "showTitle": false,
     "title": ""
    }
   },
   "outputs": [
    {
     "data": {
      "text/html": [
       "<style scoped>\n",
       "  .ansiout {\n",
       "    display: block;\n",
       "    unicode-bidi: embed;\n",
       "    white-space: pre-wrap;\n",
       "    word-wrap: break-word;\n",
       "    word-break: break-all;\n",
       "    font-family: \"Source Code Pro\", \"Menlo\", monospace;;\n",
       "    font-size: 13px;\n",
       "    color: #555;\n",
       "    margin-left: 4px;\n",
       "    line-height: 19px;\n",
       "  }\n",
       "</style>\n",
       "<div class=\"ansiout\">              precision    recall  f1-score   support\n",
       "\n",
       "         0.0       0.89      0.85      0.87       681\n",
       "         1.0       0.88      0.88      0.88       684\n",
       "         2.0       0.87      0.92      0.89       648\n",
       "\n",
       "    accuracy                           0.88      2013\n",
       "   macro avg       0.88      0.88      0.88      2013\n",
       "weighted avg       0.88      0.88      0.88      2013\n",
       "\n",
       "0.8802781917536016\n",
       "</div>"
      ]
     },
     "metadata": {
      "application/vnd.databricks.v1+output": {
       "addedWidgets": {},
       "arguments": {},
       "data": "<div class=\"ansiout\">              precision    recall  f1-score   support\n\n         0.0       0.89      0.85      0.87       681\n         1.0       0.88      0.88      0.88       684\n         2.0       0.87      0.92      0.89       648\n\n    accuracy                           0.88      2013\n   macro avg       0.88      0.88      0.88      2013\nweighted avg       0.88      0.88      0.88      2013\n\n0.8802781917536016\n</div>",
       "datasetInfos": [],
       "metadata": {},
       "removedWidgets": [],
       "type": "html"
      }
     },
     "output_type": "display_data"
    }
   ],
   "source": [
    "from sklearn.metrics import classification_report, accuracy_score\n",
    "df = PRU_pipelineModel.transform(spark_train).select('label','message','class.result').toPandas()\n",
    "df['result'] = df['result'].apply(lambda x:x[0])\n",
    "print(classification_report(df.label,df.result))\n",
    "print(accuracy_score(df.label,df.result))"
   ]
  }
 ],
 "metadata": {
  "application/vnd.databricks.v1+notebook": {
   "dashboards": [],
   "language": "python",
   "notebookMetadata": {
    "pythonIndentUnit": 4
   },
   "notebookName": "PRU_pipeline_3class",
   "notebookOrigID": 1430648153097815,
   "widgets": {}
  },
  "kernelspec": {
   "display_name": "Python 3",
   "language": "python",
   "name": "python3"
  },
  "language_info": {
   "codemirror_mode": {
    "name": "ipython",
    "version": 3
   },
   "file_extension": ".py",
   "mimetype": "text/x-python",
   "name": "python",
   "nbconvert_exporter": "python",
   "pygments_lexer": "ipython3",
   "version": "3.7.5"
  }
 },
 "nbformat": 4,
 "nbformat_minor": 1
}
