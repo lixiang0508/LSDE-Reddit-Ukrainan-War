{
 "cells": [
  {
   "cell_type": "code",
   "execution_count": 1,
   "id": "c729799f",
   "metadata": {},
   "outputs": [
    {
     "name": "stdout",
     "output_type": "stream",
     "text": [
      "Number of datasets in the Datasets library:  11679 \n",
      "\n",
      "\n"
     ]
    }
   ],
   "source": [
    "from datasets import list_datasets, load_dataset\n",
    "from pprint import pprint\n",
    "datasets = list_datasets()\n",
    "print(\"Number of datasets in the Datasets library: \", len(datasets), \"\\n\\n\")"
   ]
  },
  {
   "cell_type": "code",
   "execution_count": 5,
   "id": "35945cd9",
   "metadata": {},
   "outputs": [
    {
     "name": "stdout",
     "output_type": "stream",
     "text": [
      "{'author': 'hugginglearners',\n",
      " 'cardData': {'kaggle_id': 'hskhawaja/russia-ukraine-conflict',\n",
      "              'license': ['cc-by-nc-sa-4.0']},\n",
      " 'citation': None,\n",
      " 'description': None,\n",
      " 'downloads': 6,\n",
      " 'gated': False,\n",
      " 'id': 'hugginglearners/russia-ukraine-conflict-articles',\n",
      " 'lastModified': '2022-08-18T04:21:16.000Z',\n",
      " 'private': False,\n",
      " 'sha': 'db6eb2db84a487d4f371d94c6744b9fa4908926a',\n",
      " 'siblings': None,\n",
      " 'tags': ['license:cc-by-nc-sa-4.0',\n",
      "          'kaggle_id:hskhawaja/russia-ukraine-conflict']}\n"
     ]
    }
   ],
   "source": [
    "# dataset property\n",
    "RU = list_datasets(with_details=True)[datasets.index('hugginglearners/russia-ukraine-conflict-articles')]\n",
    "pprint(RU.__dict__)"
   ]
  },
  {
   "cell_type": "code",
   "execution_count": 6,
   "id": "7a9e868f",
   "metadata": {},
   "outputs": [
    {
     "name": "stderr",
     "output_type": "stream",
     "text": [
      "Using custom data configuration hugginglearners--russia-ukraine-conflict-articles-c91ad96efcdd61de\n"
     ]
    },
    {
     "name": "stdout",
     "output_type": "stream",
     "text": [
      "Downloading and preparing dataset csv/hugginglearners--russia-ukraine-conflict-articles to /Users/qidingran/.cache/huggingface/datasets/hugginglearners___csv/hugginglearners--russia-ukraine-conflict-articles-c91ad96efcdd61de/0.0.0/652c3096f041ee27b04d2232d41f10547a8fecda3e284a79a0ec4053c916ef7a...\n"
     ]
    },
    {
     "data": {
      "application/vnd.jupyter.widget-view+json": {
       "model_id": "2ce492cf16db439bbe86735e883716f6",
       "version_major": 2,
       "version_minor": 0
      },
      "text/plain": [
       "Downloading data files:   0%|          | 0/1 [00:00<?, ?it/s]"
      ]
     },
     "metadata": {},
     "output_type": "display_data"
    },
    {
     "data": {
      "application/vnd.jupyter.widget-view+json": {
       "model_id": "ea69de1cb6ea4453b68d4f485e029854",
       "version_major": 2,
       "version_minor": 0
      },
      "text/plain": [
       "Downloading data:   0%|          | 0.00/881k [00:00<?, ?B/s]"
      ]
     },
     "metadata": {},
     "output_type": "display_data"
    },
    {
     "data": {
      "application/vnd.jupyter.widget-view+json": {
       "model_id": "c16da396f69847f4a659d4c7afb3f68a",
       "version_major": 2,
       "version_minor": 0
      },
      "text/plain": [
       "Downloading data:   0%|          | 0.00/310k [00:00<?, ?B/s]"
      ]
     },
     "metadata": {},
     "output_type": "display_data"
    },
    {
     "data": {
      "application/vnd.jupyter.widget-view+json": {
       "model_id": "ceb3990221b54e02a331d736876568c8",
       "version_major": 2,
       "version_minor": 0
      },
      "text/plain": [
       "Extracting data files:   0%|          | 0/1 [00:00<?, ?it/s]"
      ]
     },
     "metadata": {},
     "output_type": "display_data"
    },
    {
     "data": {
      "application/vnd.jupyter.widget-view+json": {
       "model_id": "477989a8ac6a45958871f73d3ed140c0",
       "version_major": 2,
       "version_minor": 0
      },
      "text/plain": [
       "0 tables [00:00, ? tables/s]"
      ]
     },
     "metadata": {},
     "output_type": "display_data"
    },
    {
     "name": "stdout",
     "output_type": "stream",
     "text": [
      "Dataset csv downloaded and prepared to /Users/qidingran/.cache/huggingface/datasets/hugginglearners___csv/hugginglearners--russia-ukraine-conflict-articles-c91ad96efcdd61de/0.0.0/652c3096f041ee27b04d2232d41f10547a8fecda3e284a79a0ec4053c916ef7a. Subsequent calls will reuse this data.\n"
     ]
    },
    {
     "data": {
      "application/vnd.jupyter.widget-view+json": {
       "model_id": "b33b055ffaae46679486f724c1d086d2",
       "version_major": 2,
       "version_minor": 0
      },
      "text/plain": [
       "  0%|          | 0/1 [00:00<?, ?it/s]"
      ]
     },
     "metadata": {},
     "output_type": "display_data"
    }
   ],
   "source": [
    "RU_dataset = load_dataset('hugginglearners/russia-ukraine-conflict-articles')"
   ]
  },
  {
   "cell_type": "code",
   "execution_count": 7,
   "id": "9a079971",
   "metadata": {},
   "outputs": [
    {
     "name": "stdout",
     "output_type": "stream",
     "text": [
      "DatasetDict({\n",
      "    train: Dataset({\n",
      "        features: ['published', 'headlines', 'articles'],\n",
      "        num_rows: 407\n",
      "    })\n",
      "})\n"
     ]
    }
   ],
   "source": [
    "print(RU_dataset)"
   ]
  },
  {
   "cell_type": "code",
   "execution_count": 39,
   "id": "21208e37",
   "metadata": {
    "scrolled": true
   },
   "outputs": [],
   "source": [
    "import spacy\n",
    "import pytextrank\n",
    "\n",
    "# example text\n",
    "text = longstr\n",
    "# load a spaCy model, depending on language, scale, etc.\n",
    "nlp = spacy.load(\"en_core_web_sm\")\n",
    "\n",
    "# add PyTextRank to the spaCy pipeline\n",
    "nlp.add_pipe(\"textrank\")\n",
    "doc = nlp(text)\n",
    "text_list = []\n",
    "rank_list = []\n",
    "count_list = []\n",
    "# examine the top-ranked phrases in the document\n",
    "for phrase in doc._.phrases:\n",
    "    text_list.append(phrase.text)\n",
    "    rank_list.append(phrase.rank)\n",
    "    count_list.append(phrase.count)"
   ]
  },
  {
   "cell_type": "code",
   "execution_count": 59,
   "id": "ade49ec5",
   "metadata": {},
   "outputs": [],
   "source": [
    "def getKey(text):\n",
    "    nlp = spacy.load(\"en_core_web_sm\")\n",
    "    nlp.add_pipe(\"textrank\")\n",
    "    doc = nlp(text)\n",
    "    text_list = []\n",
    "    rank_list = []\n",
    "    count_list = []\n",
    "    # examine the top-ranked phrases in the document\n",
    "    for phrase in doc._.phrases:\n",
    "        text_list.append(phrase.text)\n",
    "        rank_list.append(phrase.rank)\n",
    "        count_list.append(phrase.count)\n",
    "    return text_list,rank_list,count_list"
   ]
  },
  {
   "cell_type": "code",
   "execution_count": 67,
   "id": "697611b0",
   "metadata": {},
   "outputs": [],
   "source": [
    "longstr = ''\n",
    "text_list1 = []\n",
    "rank_list1 = []\n",
    "count_list1 = []\n",
    "\n",
    "text_list2 = []\n",
    "rank_list2 = []\n",
    "count_list2 = []\n",
    "\n",
    "text_list3 = []\n",
    "rank_list3 = []\n",
    "count_list3 = []\n",
    "\n",
    "text_list4 = []\n",
    "rank_list4 = []\n",
    "count_list4 = []\n",
    "for i in range(407):\n",
    "    longstr=longstr+'.'+RU_dataset['train'][i]['headlines']+'.'+RU_dataset['train'][i]['articles']\n",
    "    if i == 99:\n",
    "        text_list1 , rank_list1 ,count_list1=getKey(longstr)\n",
    "        longstr=''\n",
    "    if i == 199:\n",
    "        text_list2 , rank_list2 ,count_list2 = getKey(longstr)\n",
    "        longstr=''\n",
    "    if i == 299:\n",
    "        text_list3 , rank_list3 ,count_list3 = getKey(longstr)\n",
    "        longstr=''\n",
    "    if i ==406:\n",
    "        text_list4 , rank_list4 ,count_list4 = getKey(longstr)"
   ]
  },
  {
   "cell_type": "code",
   "execution_count": 68,
   "id": "b1a4e201",
   "metadata": {},
   "outputs": [
    {
     "name": "stdout",
     "output_type": "stream",
     "text": [
      "Russia\n",
      "Russia’s forces\n",
      "humiliating Russia\n",
      "Russia Coverage\n",
      "Russia Moves\n",
      "Label Russia\n",
      "Russia Agrees\n",
      "Russia Looms\n",
      "Russian gas\n",
      "Russian war crimes\n",
      "Russia’s advance\n",
      "Russia’s decision\n",
      "Russia’s campaign\n",
      "Russian officials\n",
      "Russian war bloggers\n",
      "Russia’s profits\n",
      "Russia’s gains\n",
      "Russian forces\n",
      "Russian energy\n",
      "Russian oil\n",
      "Russian natural gas\n",
      "Ukraine\n",
      "Russian\n",
      "-June Russia\n",
      "Russian territory\n",
      "Ukrainians Aiding Russia\n",
      "Ukraine’s forces\n",
      "Russian missiles\n",
      "Russian prisons\n",
      "Russia Evade Sanctions\n",
      "Russia Taps Allies\n",
      "Russia Election Threat\n",
      "Russian ports\n",
      "Russian troops\n",
      "Send Ukraine\n",
      "Russian space officials\n",
      "Russian strikes\n",
      "Russian gas accounts\n",
      "Russian artillery\n",
      "eastern Ukraine\n",
      "southern Ukraine\n",
      "Russian businesses\n",
      "Russian soldiers\n",
      "Russia Cuts Gas Flow\n",
      "Russian crimes\n",
      "Russian citizens\n",
      "central Ukraine\n",
      "Ukraine War\n",
      "Russian Gas\n",
      "Ukraine policy\n"
     ]
    }
   ],
   "source": [
    "for i in range(50):\n",
    "    print(text_list3[i])"
   ]
  },
  {
   "cell_type": "code",
   "execution_count": 83,
   "id": "72f2fce1",
   "metadata": {},
   "outputs": [],
   "source": [
    "keywords = []\n",
    "keywords = text_list1[0:50]+text_list2[0:50]+text_list3[0:50]+text_list4[0:50]"
   ]
  },
  {
   "cell_type": "code",
   "execution_count": 90,
   "id": "c4087968",
   "metadata": {},
   "outputs": [],
   "source": [
    "from collections import Counter\n",
    "result = Counter(keywords)\n",
    "for k in keywords_dis:\n",
    "    if result[k]>1:\n",
    "        KW.append(k)"
   ]
  },
  {
   "cell_type": "code",
   "execution_count": 93,
   "id": "630500b7",
   "metadata": {},
   "outputs": [],
   "source": [
    "KW = list(set(KW))"
   ]
  },
  {
   "cell_type": "code",
   "execution_count": 10,
   "id": "85168968",
   "metadata": {},
   "outputs": [
    {
     "data": {
      "text/plain": [
       "['Russian',\n",
       " 'Russian gas',\n",
       " 'Russia’s attack',\n",
       " 'Ukraine’s forces',\n",
       " 'Russian oil',\n",
       " 'Russian troops',\n",
       " 'Russian artillery',\n",
       " 'central Ukraine',\n",
       " 'Ukraine’s army',\n",
       " 'Ukraine’s military',\n",
       " 'Ukraine War',\n",
       " 'Russian natural gas',\n",
       " 'Russia',\n",
       " 'eastern Ukraine',\n",
       " 'Russian missiles',\n",
       " 'Ukraine’s armed forces',\n",
       " 'Ukraine president Volodymyr Zelenskiy',\n",
       " 'southern Ukraine',\n",
       " 'Russian attacks',\n",
       " 'Russia’s invasion',\n",
       " 'Russian war crimes',\n",
       " 'Russian forces',\n",
       " 'Russian officials',\n",
       " 'Ukraine',\n",
       " 'northern Ukraine',\n",
       " 'Russian energy',\n",
       " 'east Ukraine']"
      ]
     },
     "execution_count": 10,
     "metadata": {},
     "output_type": "execute_result"
    }
   ],
   "source": [
    "KW"
   ]
  },
  {
   "cell_type": "code",
   "execution_count": 12,
   "id": "1a1ee38d",
   "metadata": {},
   "outputs": [
    {
     "data": {
      "text/plain": [
       "27"
      ]
     },
     "execution_count": 12,
     "metadata": {},
     "output_type": "execute_result"
    }
   ],
   "source": [
    "len(KW)\n"
   ]
  },
  {
   "cell_type": "code",
   "execution_count": 112,
   "id": "d71c4d86",
   "metadata": {},
   "outputs": [
    {
     "data": {
      "text/plain": [
       "'Russia,Russia’s attack,Ukraine president Volodymyr Zelenskiy,central Ukraine,Russian troops,Russian officials,northern Ukraine,Russian energy,Ukraine War,Ukraine’s forces,southern Ukraine,eastern Ukraine,Ukraine’s military,Ukraine’s army,Russian forces,Ukraine,Russian natural gas,Russia’s invasion,Russian attacks,Russian missiles,Ukraine’s armed forces,Russian artillery,Russian,Russian oil,east Ukraine,Russian war crimes,Russian gas,'"
      ]
     },
     "execution_count": 112,
     "metadata": {},
     "output_type": "execute_result"
    }
   ],
   "source": [
    "query_text = ''\n",
    "for k in KW:\n",
    "    query_text = query_text+k+','\n",
    "query_text"
   ]
  },
  {
   "cell_type": "code",
   "execution_count": 132,
   "id": "23b2a5fb",
   "metadata": {},
   "outputs": [],
   "source": [
    "from rank_bm25 import BM25Okapi\n",
    "\n",
    "corpus = [\"Lsde is hard to handle\",RU_dataset['train'][20]['articles'],RU_dataset['train'][120]['articles'],RU_dataset['train'][200]['articles']]\n",
    "\n",
    "tokenized_corpus = [doc.split(\" \") for doc in corpus]\n",
    "\n",
    "bm25 = BM25Okapi(tokenized_corpus)"
   ]
  },
  {
   "cell_type": "code",
   "execution_count": 133,
   "id": "e5116269",
   "metadata": {},
   "outputs": [],
   "source": [
    "query = query_text\n",
    "tokenized_query = query.split(\",\")\n",
    "\n",
    "doc_scores = bm25.get_scores(tokenized_query)"
   ]
  },
  {
   "cell_type": "code",
   "execution_count": 134,
   "id": "da60d1e1",
   "metadata": {},
   "outputs": [
    {
     "data": {
      "text/plain": [
       "array([0.        , 0.55753018, 0.43822648, 0.43524626])"
      ]
     },
     "execution_count": 134,
     "metadata": {},
     "output_type": "execute_result"
    }
   ],
   "source": [
    "doc_scores"
   ]
  },
  {
   "cell_type": "code",
   "execution_count": null,
   "id": "d1f31c77",
   "metadata": {},
   "outputs": [],
   "source": []
  }
 ],
 "metadata": {
  "kernelspec": {
   "display_name": "Python 3",
   "language": "python",
   "name": "python3"
  },
  "language_info": {
   "codemirror_mode": {
    "name": "ipython",
    "version": 3
   },
   "file_extension": ".py",
   "mimetype": "text/x-python",
   "name": "python",
   "nbconvert_exporter": "python",
   "pygments_lexer": "ipython3",
   "version": "3.7.5"
  }
 },
 "nbformat": 4,
 "nbformat_minor": 5
}
